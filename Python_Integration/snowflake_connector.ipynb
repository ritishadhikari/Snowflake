{
 "cells": [
  {
   "cell_type": "code",
   "execution_count": 1,
   "id": "dc6a7a29-7c09-416a-bad6-4df8f2a943d2",
   "metadata": {},
   "outputs": [],
   "source": [
    "import snowflake.connector\n",
    "from dotenv import load_dotenv\n",
    "import os"
   ]
  },
  {
   "cell_type": "code",
   "execution_count": 3,
   "id": "0189efa5-f8bf-471c-9c1f-908cf65a7fb8",
   "metadata": {},
   "outputs": [
    {
     "data": {
      "text/plain": [
       "True"
      ]
     },
     "execution_count": 3,
     "metadata": {},
     "output_type": "execute_result"
    }
   ],
   "source": [
    "load_dotenv()"
   ]
  },
  {
   "cell_type": "code",
   "execution_count": 4,
   "id": "5e714fc7-e787-47be-ad90-93c154dceac1",
   "metadata": {},
   "outputs": [],
   "source": [
    "username=os.getenv(key='snowflake_username')\n",
    "password=os.getenv(key='SNOWSQL_PWD')\n",
    "accountName=os.getenv(key='account')"
   ]
  },
  {
   "cell_type": "code",
   "execution_count": 5,
   "id": "fa96cf45-4999-4674-b3fd-303e19d09966",
   "metadata": {},
   "outputs": [],
   "source": [
    "conn=snowflake.connector.connect(\n",
    "    user=username,\n",
    "    password=password,\n",
    "    account=accountName\n",
    ")"
   ]
  },
  {
   "cell_type": "code",
   "execution_count": 6,
   "id": "f3512d53-19f7-4f8f-9fb4-ec8e1ff5c5ce",
   "metadata": {},
   "outputs": [
    {
     "data": {
      "text/plain": [
       "<snowflake.connector.cursor.SnowflakeCursor at 0x1c25a3fc5c0>"
      ]
     },
     "execution_count": 6,
     "metadata": {},
     "output_type": "execute_result"
    }
   ],
   "source": [
    "conn.cursor().execute(\"\"\"\n",
    "    ALTER SESSION SET QUERY_TAG='EndOfMonthFinancials'\n",
    "\"\"\")"
   ]
  },
  {
   "cell_type": "markdown",
   "id": "58fb5dcd-c287-4de3-af8a-735e041b5960",
   "metadata": {},
   "source": [
    "<h3>Create a Warehouse</h3>"
   ]
  },
  {
   "cell_type": "code",
   "execution_count": 7,
   "id": "c7448f84-e894-45d5-b174-eec233475761",
   "metadata": {},
   "outputs": [
    {
     "data": {
      "text/plain": [
       "<snowflake.connector.cursor.SnowflakeCursor at 0x1c25d13ea80>"
      ]
     },
     "execution_count": 7,
     "metadata": {},
     "output_type": "execute_result"
    }
   ],
   "source": [
    "conn.cursor().execute(\"\"\"CREATE WAREHOUSE IF NOT EXISTS \n",
    "                            third_warehouse\n",
    "                        WITH \n",
    "                            WAREHOUSE_SIZE=XSMALL\n",
    "                            MIN_CLUSTER_COUNT=1\n",
    "                            MAX_CLUSTER_COUNT=3\n",
    "                            SCALING_POLICY=\"Economy\"  -- Default is \"Standard\"\n",
    "                            INITIALLY_SUSPENDED=TRUE\n",
    "                            AUTO_SUSPEND=50\n",
    "                            AUTO_RESUME=TRUE\n",
    "                            COMMENT=\"This is our third warehouse\";\n",
    "    \"\"\")"
   ]
  },
  {
   "cell_type": "code",
   "execution_count": 8,
   "id": "33d8bd26-2165-46e9-92f3-5a354668501d",
   "metadata": {},
   "outputs": [
    {
     "data": {
      "text/plain": [
       "<snowflake.connector.cursor.SnowflakeCursor at 0x1c25d1ed3d0>"
      ]
     },
     "execution_count": 8,
     "metadata": {},
     "output_type": "execute_result"
    }
   ],
   "source": [
    "conn.cursor().execute(\"\"\"\n",
    "    USE WAREHOUSE\n",
    "        third_warehouse\n",
    "\"\"\")"
   ]
  },
  {
   "cell_type": "markdown",
   "id": "b6f46519-35a7-441c-8a4e-e127cf7ebf9c",
   "metadata": {},
   "source": [
    "<h3>Create a Database</h3>"
   ]
  },
  {
   "cell_type": "code",
   "execution_count": 9,
   "id": "2336e34c-51f8-409c-bebc-bd2ba7ac0df3",
   "metadata": {},
   "outputs": [
    {
     "data": {
      "text/plain": [
       "<snowflake.connector.cursor.SnowflakeCursor at 0x1c259d1d5b0>"
      ]
     },
     "execution_count": 9,
     "metadata": {},
     "output_type": "execute_result"
    }
   ],
   "source": [
    "conn.cursor().execute(\"\"\"\n",
    "    CREATE DATABASE IF NOT EXISTS\n",
    "        python_test_db;\n",
    "\"\"\")"
   ]
  },
  {
   "cell_type": "code",
   "execution_count": 10,
   "id": "25dc2da1-f719-4184-8140-5f41f6f5630a",
   "metadata": {},
   "outputs": [
    {
     "data": {
      "text/plain": [
       "<snowflake.connector.cursor.SnowflakeCursor at 0x1c257b454c0>"
      ]
     },
     "execution_count": 10,
     "metadata": {},
     "output_type": "execute_result"
    }
   ],
   "source": [
    "conn.cursor().execute(\"\"\"\n",
    "    USE DATABASE\n",
    "        python_test_db;\n",
    "\"\"\")"
   ]
  },
  {
   "cell_type": "markdown",
   "id": "7dd54f76-9ee6-48f4-9482-b6f71b4cd63b",
   "metadata": {},
   "source": [
    "<h3>Create a Schema</h3>"
   ]
  },
  {
   "cell_type": "code",
   "execution_count": 12,
   "id": "cdf82820-d7eb-4234-82de-6bd4fff3dbc2",
   "metadata": {},
   "outputs": [
    {
     "data": {
      "text/plain": [
       "<snowflake.connector.cursor.SnowflakeCursor at 0x1c25d13e600>"
      ]
     },
     "execution_count": 12,
     "metadata": {},
     "output_type": "execute_result"
    }
   ],
   "source": [
    "conn.cursor().execute(\"\"\"\n",
    "    CREATE SCHEMA IF NOT EXISTS\n",
    "        python_test_db.test_schema\n",
    "\"\"\")"
   ]
  },
  {
   "cell_type": "code",
   "execution_count": 13,
   "id": "6a65d36b-3c18-4b75-a1ad-210ce26185df",
   "metadata": {},
   "outputs": [
    {
     "data": {
      "text/plain": [
       "<snowflake.connector.cursor.SnowflakeCursor at 0x1c25d197c20>"
      ]
     },
     "execution_count": 13,
     "metadata": {},
     "output_type": "execute_result"
    }
   ],
   "source": [
    "conn.cursor().execute(\"\"\"\n",
    "        USE SCHEMA\n",
    "            python_test_db.test_schema\n",
    "\"\"\")"
   ]
  },
  {
   "cell_type": "markdown",
   "id": "1594e4db-04d6-44e8-9929-692e46b7be30",
   "metadata": {},
   "source": [
    "<h3>Create a Table</h3>"
   ]
  },
  {
   "cell_type": "code",
   "execution_count": 15,
   "id": "26086b9a-db76-432a-9f27-fbad647f2fff",
   "metadata": {},
   "outputs": [
    {
     "data": {
      "text/plain": [
       "<snowflake.connector.cursor.SnowflakeCursor at 0x1c25d1ef050>"
      ]
     },
     "execution_count": 15,
     "metadata": {},
     "output_type": "execute_result"
    }
   ],
   "source": [
    "conn.cursor().execute(\n",
    "    \"\"\"\n",
    "        CREATE OR REPLACE TABLE\n",
    "            python_test_db.test_schema.python_test_table (\n",
    "                col1 INTEGER,\n",
    "                col2 STRING\n",
    "            )\n",
    "    \"\"\"\n",
    ")"
   ]
  },
  {
   "cell_type": "markdown",
   "id": "b6bedd89-535d-4d71-9b75-8a6eff0e66fb",
   "metadata": {},
   "source": [
    "<h3>Adding Data to the table</h3>"
   ]
  },
  {
   "cell_type": "code",
   "execution_count": 17,
   "id": "5ad088b1-d328-48d6-acbd-7b88224cbe33",
   "metadata": {},
   "outputs": [
    {
     "data": {
      "text/plain": [
       "<snowflake.connector.cursor.SnowflakeCursor at 0x1c25c7c0da0>"
      ]
     },
     "execution_count": 17,
     "metadata": {},
     "output_type": "execute_result"
    }
   ],
   "source": [
    "conn.cursor().execute(\n",
    "    \"\"\"\n",
    "        INSERT INTO \n",
    "            python_test_db.test_schema.python_test_table(\n",
    "                col1,col2\n",
    "                )\n",
    "        VALUES\n",
    "            (\n",
    "                123,\n",
    "                'test string1'\n",
    "            ),\n",
    "            (\n",
    "                456,\n",
    "                'test string2'\n",
    "            );\n",
    "    \"\"\"\n",
    ")"
   ]
  },
  {
   "cell_type": "markdown",
   "id": "300aca1e-cd6c-4bb7-afe8-4eedbf58fdd0",
   "metadata": {},
   "source": [
    "<h3>Query Data</h3>"
   ]
  },
  {
   "cell_type": "code",
   "execution_count": 19,
   "id": "2e020e15-094c-4735-805e-d57c1fc21879",
   "metadata": {},
   "outputs": [],
   "source": [
    "col1,col2=conn.cursor().execute(\n",
    "    \"\"\"\n",
    "        SELECT \n",
    "            col1,\n",
    "            col2\n",
    "        FROM \n",
    "            python_test_db.test_schema.python_test_table\n",
    "    \"\"\"\n",
    ").fetchone()"
   ]
  },
  {
   "cell_type": "code",
   "execution_count": 20,
   "id": "47882fe7-e56b-44af-baad-fea747a46b68",
   "metadata": {},
   "outputs": [
    {
     "data": {
      "text/plain": [
       "(123, 'test string1')"
      ]
     },
     "execution_count": 20,
     "metadata": {},
     "output_type": "execute_result"
    }
   ],
   "source": [
    "col1,col2"
   ]
  },
  {
   "cell_type": "code",
   "execution_count": 21,
   "id": "5f8add29-45eb-464a-a16c-3a915bd3c8e7",
   "metadata": {},
   "outputs": [
    {
     "name": "stdout",
     "output_type": "stream",
     "text": [
      "123,test string1\n",
      "456,test string2\n"
     ]
    }
   ],
   "source": [
    "for col1,col2 in conn.cursor().execute(\n",
    "    \"\"\"\n",
    "        SELECT \n",
    "            col1,\n",
    "            col2\n",
    "        FROM \n",
    "            python_test_db.test_schema.python_test_table\n",
    "    \"\"\"\n",
    "):\n",
    "    print(f'{col1},{col2}')"
   ]
  },
  {
   "cell_type": "markdown",
   "id": "8dcd7ab1-8d62-4f33-90fd-dfdf0c3bca6c",
   "metadata": {},
   "source": [
    "<h3>Close the connection</h3>"
   ]
  },
  {
   "cell_type": "code",
   "execution_count": 23,
   "id": "32a27d47-fe72-4eda-a52a-f8b60175e779",
   "metadata": {},
   "outputs": [],
   "source": [
    "conn.close()"
   ]
  },
  {
   "cell_type": "code",
   "execution_count": null,
   "id": "3cd1f07f-6f71-48b9-ada2-2faad6b2a87f",
   "metadata": {},
   "outputs": [],
   "source": []
  }
 ],
 "metadata": {
  "kernelspec": {
   "display_name": "snfenv",
   "language": "python",
   "name": "python3"
  },
  "language_info": {
   "codemirror_mode": {
    "name": "ipython",
    "version": 3
   },
   "file_extension": ".py",
   "mimetype": "text/x-python",
   "name": "python",
   "nbconvert_exporter": "python",
   "pygments_lexer": "ipython3",
   "version": "3.12.11"
  }
 },
 "nbformat": 4,
 "nbformat_minor": 5
}

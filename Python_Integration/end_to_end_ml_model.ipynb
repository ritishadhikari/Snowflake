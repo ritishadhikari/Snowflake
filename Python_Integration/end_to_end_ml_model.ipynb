{
 "cells": [
  {
   "cell_type": "code",
   "execution_count": 37,
   "id": "1b9b6ad6",
   "metadata": {},
   "outputs": [],
   "source": [
    "import snowflake.connector\n",
    "from dotenv import load_dotenv\n",
    "import os"
   ]
  },
  {
   "cell_type": "code",
   "execution_count": 38,
   "id": "f493cae5",
   "metadata": {},
   "outputs": [
    {
     "data": {
      "text/plain": [
       "True"
      ]
     },
     "execution_count": 38,
     "metadata": {},
     "output_type": "execute_result"
    }
   ],
   "source": [
    "load_dotenv()"
   ]
  },
  {
   "cell_type": "code",
   "execution_count": 59,
   "id": "d4e454bf",
   "metadata": {},
   "outputs": [],
   "source": [
    "username=os.getenv(key='snowflake_username')\n",
    "password=os.getenv(key='SNOWSQL_PWD')\n",
    "accountName=os.getenv(key='account')"
   ]
  },
  {
   "cell_type": "code",
   "execution_count": 73,
   "id": "4dfed8ac",
   "metadata": {},
   "outputs": [
    {
     "data": {
      "text/plain": [
       "'EBXSMJF-PL33393'"
      ]
     },
     "execution_count": 73,
     "metadata": {},
     "output_type": "execute_result"
    }
   ],
   "source": [
    "accountName"
   ]
  },
  {
   "cell_type": "code",
   "execution_count": 60,
   "id": "6fd37310",
   "metadata": {},
   "outputs": [
    {
     "data": {
      "text/plain": [
       "'ritishadhikari'"
      ]
     },
     "execution_count": 60,
     "metadata": {},
     "output_type": "execute_result"
    }
   ],
   "source": [
    "username"
   ]
  },
  {
   "cell_type": "code",
   "execution_count": 61,
   "id": "1efb9ec3",
   "metadata": {},
   "outputs": [],
   "source": [
    "conn=snowflake.connector.connect(\n",
    "    user=username,\n",
    "    password=password,\n",
    "    account=accountName\n",
    ")"
   ]
  },
  {
   "cell_type": "code",
   "execution_count": null,
   "id": "57157cdc",
   "metadata": {},
   "outputs": [],
   "source": [
    "def con_execute(connection,sql_code:'str'):\n",
    "    connection.cursor().execute(sql_code)"
   ]
  },
  {
   "cell_type": "markdown",
   "id": "9e500a18",
   "metadata": {},
   "source": [
    "<h3>Create a new role for this exercise</h3>"
   ]
  },
  {
   "cell_type": "code",
   "execution_count": 64,
   "id": "c832eb47",
   "metadata": {},
   "outputs": [],
   "source": [
    "role=\"\"\"USE ROLE\n",
    "            accountadmin;\n",
    "      \"\"\"\n",
    "\n",
    "con_execute(connection=conn,sql_code=role)"
   ]
  },
  {
   "cell_type": "code",
   "execution_count": 65,
   "id": "0c20f957",
   "metadata": {},
   "outputs": [],
   "source": [
    "username = \"\"\"\n",
    "            SELECT \n",
    "                CURRENT_USER();\n",
    "        \"\"\"\n",
    "con_execute(connection=conn,sql_code=username)"
   ]
  },
  {
   "cell_type": "code",
   "execution_count": 66,
   "id": "1f518317",
   "metadata": {},
   "outputs": [],
   "source": [
    "select_role = \"\"\"\n",
    "            CREATE OR REPLACE ROLE \n",
    "                E2E_SNOW_MLOPS_ROLE;\n",
    "        \"\"\"\n",
    "con_execute(connection=conn,sql_code=select_role)"
   ]
  },
  {
   "cell_type": "markdown",
   "id": "9213e512",
   "metadata": {},
   "source": [
    "<h3>Grant necessary permissions to create databases, compute pools, and service endpoints to new role</h3>"
   ]
  },
  {
   "cell_type": "code",
   "execution_count": 67,
   "id": "7e01564d",
   "metadata": {},
   "outputs": [],
   "source": [
    "database_grant=\"\"\"\n",
    "    GRANT CREATE DATABASE ON ACCOUNT TO ROLE\n",
    "        e2e_snow_mlops_role;\n",
    "\"\"\"\n",
    "con_execute(connection=conn,sql_code=database_grant)"
   ]
  },
  {
   "cell_type": "code",
   "execution_count": 68,
   "id": "07961c61",
   "metadata": {},
   "outputs": [
    {
     "ename": "ProgrammingError",
     "evalue": "391811 (0A000): Unsupported feature GRANT/REVOKE CREATE COMPUTE POOL ON ACCOUNT'.",
     "output_type": "error",
     "traceback": [
      "\u001b[31m---------------------------------------------------------------------------\u001b[39m",
      "\u001b[31mProgrammingError\u001b[39m                          Traceback (most recent call last)",
      "\u001b[36mCell\u001b[39m\u001b[36m \u001b[39m\u001b[32mIn[68]\u001b[39m\u001b[32m, line 5\u001b[39m\n\u001b[32m      1\u001b[39m pool_grant=\u001b[33m\"\"\"\u001b[39m\n\u001b[32m      2\u001b[39m \u001b[33m    GRANT CREATE COMPUTE POOL on ACCOUNT to ROLE \u001b[39m\n\u001b[32m      3\u001b[39m \u001b[33m        E2E_SNOW_MLOPS_ROLE;\u001b[39m\n\u001b[32m      4\u001b[39m \u001b[33m\"\"\"\u001b[39m\n\u001b[32m----> \u001b[39m\u001b[32m5\u001b[39m \u001b[43mcon_execute\u001b[49m\u001b[43m(\u001b[49m\u001b[43mconnection\u001b[49m\u001b[43m=\u001b[49m\u001b[43mconn\u001b[49m\u001b[43m,\u001b[49m\u001b[43msql_code\u001b[49m\u001b[43m=\u001b[49m\u001b[43mpool_grant\u001b[49m\u001b[43m)\u001b[49m\n",
      "\u001b[36mCell\u001b[39m\u001b[36m \u001b[39m\u001b[32mIn[62]\u001b[39m\u001b[32m, line 2\u001b[39m, in \u001b[36mcon_execute\u001b[39m\u001b[34m(connection, sql_code)\u001b[39m\n\u001b[32m      1\u001b[39m \u001b[38;5;28;01mdef\u001b[39;00m\u001b[38;5;250m \u001b[39m\u001b[34mcon_execute\u001b[39m(connection,sql_code:\u001b[33m'\u001b[39m\u001b[33mstr\u001b[39m\u001b[33m'\u001b[39m):\n\u001b[32m----> \u001b[39m\u001b[32m2\u001b[39m     \u001b[43mconnection\u001b[49m\u001b[43m.\u001b[49m\u001b[43mcursor\u001b[49m\u001b[43m(\u001b[49m\u001b[43m)\u001b[49m\u001b[43m.\u001b[49m\u001b[43mexecute\u001b[49m\u001b[43m(\u001b[49m\u001b[43msql_code\u001b[49m\u001b[43m)\u001b[49m\n",
      "\u001b[36mFile \u001b[39m\u001b[32mc:\\Users\\MSI\\anaconda3\\envs\\snfenv\\Lib\\site-packages\\snowflake\\connector\\cursor.py:1134\u001b[39m, in \u001b[36mSnowflakeCursor.execute\u001b[39m\u001b[34m(self, command, params, _bind_stage, timeout, _exec_async, _no_retry, _do_reset, _put_callback, _put_azure_callback, _put_callback_output_stream, _get_callback, _get_azure_callback, _get_callback_output_stream, _show_progress_bar, _statement_params, _is_internal, _describe_only, _no_results, _is_put_get, _raise_put_get_error, _force_put_overwrite, _skip_upload_on_content_match, file_stream, num_statements, _force_qmark_paramstyle, _dataframe_ast)\u001b[39m\n\u001b[32m   1130\u001b[39m     is_integrity_error = (\n\u001b[32m   1131\u001b[39m         code == \u001b[33m\"\u001b[39m\u001b[33m100072\u001b[39m\u001b[33m\"\u001b[39m\n\u001b[32m   1132\u001b[39m     )  \u001b[38;5;66;03m# NULL result in a non-nullable column\u001b[39;00m\n\u001b[32m   1133\u001b[39m     error_class = IntegrityError \u001b[38;5;28;01mif\u001b[39;00m is_integrity_error \u001b[38;5;28;01melse\u001b[39;00m ProgrammingError\n\u001b[32m-> \u001b[39m\u001b[32m1134\u001b[39m     \u001b[43mError\u001b[49m\u001b[43m.\u001b[49m\u001b[43merrorhandler_wrapper\u001b[49m\u001b[43m(\u001b[49m\u001b[38;5;28;43mself\u001b[39;49m\u001b[43m.\u001b[49m\u001b[43mconnection\u001b[49m\u001b[43m,\u001b[49m\u001b[43m \u001b[49m\u001b[38;5;28;43mself\u001b[39;49m\u001b[43m,\u001b[49m\u001b[43m \u001b[49m\u001b[43merror_class\u001b[49m\u001b[43m,\u001b[49m\u001b[43m \u001b[49m\u001b[43merrvalue\u001b[49m\u001b[43m)\u001b[49m\n\u001b[32m   1135\u001b[39m \u001b[38;5;28;01mreturn\u001b[39;00m \u001b[38;5;28mself\u001b[39m\n",
      "\u001b[36mFile \u001b[39m\u001b[32mc:\\Users\\MSI\\anaconda3\\envs\\snfenv\\Lib\\site-packages\\snowflake\\connector\\errors.py:286\u001b[39m, in \u001b[36mError.errorhandler_wrapper\u001b[39m\u001b[34m(connection, cursor, error_class, error_value)\u001b[39m\n\u001b[32m    263\u001b[39m \u001b[38;5;129m@staticmethod\u001b[39m\n\u001b[32m    264\u001b[39m \u001b[38;5;28;01mdef\u001b[39;00m\u001b[38;5;250m \u001b[39m\u001b[34merrorhandler_wrapper\u001b[39m(\n\u001b[32m    265\u001b[39m     connection: SnowflakeConnection | \u001b[38;5;28;01mNone\u001b[39;00m,\n\u001b[32m   (...)\u001b[39m\u001b[32m    268\u001b[39m     error_value: \u001b[38;5;28mdict\u001b[39m[\u001b[38;5;28mstr\u001b[39m, Any],\n\u001b[32m    269\u001b[39m ) -> \u001b[38;5;28;01mNone\u001b[39;00m:\n\u001b[32m    270\u001b[39m \u001b[38;5;250m    \u001b[39m\u001b[33;03m\"\"\"Error handler wrapper that calls the errorhandler method.\u001b[39;00m\n\u001b[32m    271\u001b[39m \n\u001b[32m    272\u001b[39m \u001b[33;03m    Args:\u001b[39;00m\n\u001b[32m   (...)\u001b[39m\u001b[32m    283\u001b[39m \u001b[33;03m        exception to the first handler in that order.\u001b[39;00m\n\u001b[32m    284\u001b[39m \u001b[33;03m    \"\"\"\u001b[39;00m\n\u001b[32m--> \u001b[39m\u001b[32m286\u001b[39m     handed_over = \u001b[43mError\u001b[49m\u001b[43m.\u001b[49m\u001b[43mhand_to_other_handler\u001b[49m\u001b[43m(\u001b[49m\n\u001b[32m    287\u001b[39m \u001b[43m        \u001b[49m\u001b[43mconnection\u001b[49m\u001b[43m,\u001b[49m\n\u001b[32m    288\u001b[39m \u001b[43m        \u001b[49m\u001b[43mcursor\u001b[49m\u001b[43m,\u001b[49m\n\u001b[32m    289\u001b[39m \u001b[43m        \u001b[49m\u001b[43merror_class\u001b[49m\u001b[43m,\u001b[49m\n\u001b[32m    290\u001b[39m \u001b[43m        \u001b[49m\u001b[43merror_value\u001b[49m\u001b[43m,\u001b[49m\n\u001b[32m    291\u001b[39m \u001b[43m    \u001b[49m\u001b[43m)\u001b[49m\n\u001b[32m    292\u001b[39m     \u001b[38;5;28;01mif\u001b[39;00m \u001b[38;5;129;01mnot\u001b[39;00m handed_over:\n\u001b[32m    293\u001b[39m         \u001b[38;5;28;01mraise\u001b[39;00m Error.errorhandler_make_exception(\n\u001b[32m    294\u001b[39m             error_class,\n\u001b[32m    295\u001b[39m             error_value,\n\u001b[32m    296\u001b[39m         )\n",
      "\u001b[36mFile \u001b[39m\u001b[32mc:\\Users\\MSI\\anaconda3\\envs\\snfenv\\Lib\\site-packages\\snowflake\\connector\\errors.py:341\u001b[39m, in \u001b[36mError.hand_to_other_handler\u001b[39m\u001b[34m(connection, cursor, error_class, error_value)\u001b[39m\n\u001b[32m    339\u001b[39m \u001b[38;5;28;01mif\u001b[39;00m cursor \u001b[38;5;129;01mis\u001b[39;00m \u001b[38;5;129;01mnot\u001b[39;00m \u001b[38;5;28;01mNone\u001b[39;00m:\n\u001b[32m    340\u001b[39m     cursor.messages.append((error_class, error_value))\n\u001b[32m--> \u001b[39m\u001b[32m341\u001b[39m     \u001b[43mcursor\u001b[49m\u001b[43m.\u001b[49m\u001b[43merrorhandler\u001b[49m\u001b[43m(\u001b[49m\u001b[43mconnection\u001b[49m\u001b[43m,\u001b[49m\u001b[43m \u001b[49m\u001b[43mcursor\u001b[49m\u001b[43m,\u001b[49m\u001b[43m \u001b[49m\u001b[43merror_class\u001b[49m\u001b[43m,\u001b[49m\u001b[43m \u001b[49m\u001b[43merror_value\u001b[49m\u001b[43m)\u001b[49m\n\u001b[32m    342\u001b[39m     \u001b[38;5;28;01mreturn\u001b[39;00m \u001b[38;5;28;01mTrue\u001b[39;00m\n\u001b[32m    343\u001b[39m \u001b[38;5;28;01melif\u001b[39;00m connection \u001b[38;5;129;01mis\u001b[39;00m \u001b[38;5;129;01mnot\u001b[39;00m \u001b[38;5;28;01mNone\u001b[39;00m:\n",
      "\u001b[36mFile \u001b[39m\u001b[32mc:\\Users\\MSI\\anaconda3\\envs\\snfenv\\Lib\\site-packages\\snowflake\\connector\\errors.py:217\u001b[39m, in \u001b[36mError.default_errorhandler\u001b[39m\u001b[34m(connection, cursor, error_class, error_value)\u001b[39m\n\u001b[32m    215\u001b[39m errno = error_value.get(\u001b[33m\"\u001b[39m\u001b[33merrno\u001b[39m\u001b[33m\"\u001b[39m)\n\u001b[32m    216\u001b[39m done_format_msg = error_value.get(\u001b[33m\"\u001b[39m\u001b[33mdone_format_msg\u001b[39m\u001b[33m\"\u001b[39m)\n\u001b[32m--> \u001b[39m\u001b[32m217\u001b[39m \u001b[38;5;28;01mraise\u001b[39;00m error_class(\n\u001b[32m    218\u001b[39m     msg=error_value.get(\u001b[33m\"\u001b[39m\u001b[33mmsg\u001b[39m\u001b[33m\"\u001b[39m),\n\u001b[32m    219\u001b[39m     errno=\u001b[38;5;28;01mNone\u001b[39;00m \u001b[38;5;28;01mif\u001b[39;00m errno \u001b[38;5;129;01mis\u001b[39;00m \u001b[38;5;28;01mNone\u001b[39;00m \u001b[38;5;28;01melse\u001b[39;00m \u001b[38;5;28mint\u001b[39m(errno),\n\u001b[32m    220\u001b[39m     sqlstate=error_value.get(\u001b[33m\"\u001b[39m\u001b[33msqlstate\u001b[39m\u001b[33m\"\u001b[39m),\n\u001b[32m    221\u001b[39m     sfqid=error_value.get(\u001b[33m\"\u001b[39m\u001b[33msfqid\u001b[39m\u001b[33m\"\u001b[39m),\n\u001b[32m    222\u001b[39m     query=error_value.get(\u001b[33m\"\u001b[39m\u001b[33mquery\u001b[39m\u001b[33m\"\u001b[39m),\n\u001b[32m    223\u001b[39m     done_format_msg=(\n\u001b[32m    224\u001b[39m         \u001b[38;5;28;01mNone\u001b[39;00m \u001b[38;5;28;01mif\u001b[39;00m done_format_msg \u001b[38;5;129;01mis\u001b[39;00m \u001b[38;5;28;01mNone\u001b[39;00m \u001b[38;5;28;01melse\u001b[39;00m \u001b[38;5;28mbool\u001b[39m(done_format_msg)\n\u001b[32m    225\u001b[39m     ),\n\u001b[32m    226\u001b[39m     connection=connection,\n\u001b[32m    227\u001b[39m     cursor=cursor,\n\u001b[32m    228\u001b[39m )\n",
      "\u001b[31mProgrammingError\u001b[39m: 391811 (0A000): Unsupported feature GRANT/REVOKE CREATE COMPUTE POOL ON ACCOUNT'."
     ]
    }
   ],
   "source": [
    "pool_grant=\"\"\"\n",
    "    GRANT CREATE COMPUTE POOL on ACCOUNT to ROLE \n",
    "        E2E_SNOW_MLOPS_ROLE;\n",
    "\"\"\"\n",
    "con_execute(connection=conn,sql_code=pool_grant)"
   ]
  },
  {
   "cell_type": "code",
   "execution_count": 69,
   "id": "9a052753",
   "metadata": {},
   "outputs": [],
   "source": [
    "service_end_point_grant=\"\"\"\n",
    "    GRANT BIND SERVICE ENDPOINT on ACCOUNT to ROLE \n",
    "        E2E_SNOW_MLOPS_ROLE;\n",
    "\"\"\"\n",
    "con_execute(connection=conn,sql_code=service_end_point_grant)"
   ]
  },
  {
   "cell_type": "markdown",
   "id": "7379ee1f",
   "metadata": {},
   "source": [
    "<h3> Grant new role to user and switch to that role </h3>"
   ]
  },
  {
   "cell_type": "code",
   "execution_count": 78,
   "id": "d49dbe45",
   "metadata": {},
   "outputs": [],
   "source": [
    "role_to_user=\"\"\"\n",
    "GRANT ROLE E2E_SNOW_MLOPS_ROLE TO USER \n",
    "        ritishadhikari;\n",
    "\"\"\"\n",
    "con_execute(connection=conn,sql_code=role_to_user)"
   ]
  },
  {
   "cell_type": "code",
   "execution_count": 71,
   "id": "c69979b4",
   "metadata": {},
   "outputs": [],
   "source": [
    "role=\"\"\"\n",
    "USE ROLE \n",
    "    e2e_snow_mlops_role;\n",
    "\"\"\"\n",
    "con_execute(connection=conn,sql_code=role)"
   ]
  },
  {
   "cell_type": "code",
   "execution_count": 75,
   "id": "a8541a45",
   "metadata": {},
   "outputs": [],
   "source": [
    "role=\"\"\"\n",
    "USE ROLE \n",
    "    accountadmin;\n",
    "\"\"\"\n",
    "con_execute(connection=conn,sql_code=role)"
   ]
  },
  {
   "cell_type": "code",
   "execution_count": 76,
   "id": "75c89db8",
   "metadata": {},
   "outputs": [],
   "source": [
    "create_warehouse=\"\"\" \n",
    "CREATE OR REPLACE WAREHOUSE\n",
    "    e2e_snow_mlops_wh\n",
    "WITH \n",
    "    warehouse_size=small;\n",
    "\"\"\"\n",
    "con_execute(connection=conn,sql_code=create_warehouse)"
   ]
  },
  {
   "cell_type": "code",
   "execution_count": 82,
   "id": "bfd2a7ed",
   "metadata": {},
   "outputs": [
    {
     "data": {
      "text/plain": [
       "<snowflake.connector.cursor.SnowflakeCursor at 0x203ee854470>"
      ]
     },
     "execution_count": 82,
     "metadata": {},
     "output_type": "execute_result"
    }
   ],
   "source": [
    "create_db=\"\"\"\n",
    "CREATE OR REPLACE WAREHOUSE\n",
    "    e2e_snow_mlops_db;\n",
    "\"\"\"\n",
    "conn.cursor().execute(create_db)"
   ]
  },
  {
   "cell_type": "code",
   "execution_count": 83,
   "id": "48934085",
   "metadata": {},
   "outputs": [
    {
     "ename": "ProgrammingError",
     "evalue": "002003 (02000): SQL compilation error:\nDatabase 'E2E_SNOW_MLOPS_DB' does not exist or not authorized.",
     "output_type": "error",
     "traceback": [
      "\u001b[31m---------------------------------------------------------------------------\u001b[39m",
      "\u001b[31mProgrammingError\u001b[39m                          Traceback (most recent call last)",
      "\u001b[36mCell\u001b[39m\u001b[36m \u001b[39m\u001b[32mIn[83]\u001b[39m\u001b[32m, line 5\u001b[39m\n\u001b[32m      1\u001b[39m create_schema=\u001b[33m\"\"\"\u001b[39m\u001b[33m \u001b[39m\n\u001b[32m      2\u001b[39m \u001b[33mCREATE OR REPLACE SCHEMA\u001b[39m\n\u001b[32m      3\u001b[39m \u001b[33m    e2e_snow_mlops_db.mlops_schema;\u001b[39m\n\u001b[32m      4\u001b[39m \u001b[33m\"\"\"\u001b[39m\n\u001b[32m----> \u001b[39m\u001b[32m5\u001b[39m \u001b[43mconn\u001b[49m\u001b[43m.\u001b[49m\u001b[43mcursor\u001b[49m\u001b[43m(\u001b[49m\u001b[43m)\u001b[49m\u001b[43m.\u001b[49m\u001b[43mexecute\u001b[49m\u001b[43m(\u001b[49m\u001b[43mcreate_schema\u001b[49m\u001b[43m)\u001b[49m\n",
      "\u001b[36mFile \u001b[39m\u001b[32mc:\\Users\\MSI\\anaconda3\\envs\\snfenv\\Lib\\site-packages\\snowflake\\connector\\cursor.py:1134\u001b[39m, in \u001b[36mSnowflakeCursor.execute\u001b[39m\u001b[34m(self, command, params, _bind_stage, timeout, _exec_async, _no_retry, _do_reset, _put_callback, _put_azure_callback, _put_callback_output_stream, _get_callback, _get_azure_callback, _get_callback_output_stream, _show_progress_bar, _statement_params, _is_internal, _describe_only, _no_results, _is_put_get, _raise_put_get_error, _force_put_overwrite, _skip_upload_on_content_match, file_stream, num_statements, _force_qmark_paramstyle, _dataframe_ast)\u001b[39m\n\u001b[32m   1130\u001b[39m     is_integrity_error = (\n\u001b[32m   1131\u001b[39m         code == \u001b[33m\"\u001b[39m\u001b[33m100072\u001b[39m\u001b[33m\"\u001b[39m\n\u001b[32m   1132\u001b[39m     )  \u001b[38;5;66;03m# NULL result in a non-nullable column\u001b[39;00m\n\u001b[32m   1133\u001b[39m     error_class = IntegrityError \u001b[38;5;28;01mif\u001b[39;00m is_integrity_error \u001b[38;5;28;01melse\u001b[39;00m ProgrammingError\n\u001b[32m-> \u001b[39m\u001b[32m1134\u001b[39m     \u001b[43mError\u001b[49m\u001b[43m.\u001b[49m\u001b[43merrorhandler_wrapper\u001b[49m\u001b[43m(\u001b[49m\u001b[38;5;28;43mself\u001b[39;49m\u001b[43m.\u001b[49m\u001b[43mconnection\u001b[49m\u001b[43m,\u001b[49m\u001b[43m \u001b[49m\u001b[38;5;28;43mself\u001b[39;49m\u001b[43m,\u001b[49m\u001b[43m \u001b[49m\u001b[43merror_class\u001b[49m\u001b[43m,\u001b[49m\u001b[43m \u001b[49m\u001b[43merrvalue\u001b[49m\u001b[43m)\u001b[49m\n\u001b[32m   1135\u001b[39m \u001b[38;5;28;01mreturn\u001b[39;00m \u001b[38;5;28mself\u001b[39m\n",
      "\u001b[36mFile \u001b[39m\u001b[32mc:\\Users\\MSI\\anaconda3\\envs\\snfenv\\Lib\\site-packages\\snowflake\\connector\\errors.py:286\u001b[39m, in \u001b[36mError.errorhandler_wrapper\u001b[39m\u001b[34m(connection, cursor, error_class, error_value)\u001b[39m\n\u001b[32m    263\u001b[39m \u001b[38;5;129m@staticmethod\u001b[39m\n\u001b[32m    264\u001b[39m \u001b[38;5;28;01mdef\u001b[39;00m\u001b[38;5;250m \u001b[39m\u001b[34merrorhandler_wrapper\u001b[39m(\n\u001b[32m    265\u001b[39m     connection: SnowflakeConnection | \u001b[38;5;28;01mNone\u001b[39;00m,\n\u001b[32m   (...)\u001b[39m\u001b[32m    268\u001b[39m     error_value: \u001b[38;5;28mdict\u001b[39m[\u001b[38;5;28mstr\u001b[39m, Any],\n\u001b[32m    269\u001b[39m ) -> \u001b[38;5;28;01mNone\u001b[39;00m:\n\u001b[32m    270\u001b[39m \u001b[38;5;250m    \u001b[39m\u001b[33;03m\"\"\"Error handler wrapper that calls the errorhandler method.\u001b[39;00m\n\u001b[32m    271\u001b[39m \n\u001b[32m    272\u001b[39m \u001b[33;03m    Args:\u001b[39;00m\n\u001b[32m   (...)\u001b[39m\u001b[32m    283\u001b[39m \u001b[33;03m        exception to the first handler in that order.\u001b[39;00m\n\u001b[32m    284\u001b[39m \u001b[33;03m    \"\"\"\u001b[39;00m\n\u001b[32m--> \u001b[39m\u001b[32m286\u001b[39m     handed_over = \u001b[43mError\u001b[49m\u001b[43m.\u001b[49m\u001b[43mhand_to_other_handler\u001b[49m\u001b[43m(\u001b[49m\n\u001b[32m    287\u001b[39m \u001b[43m        \u001b[49m\u001b[43mconnection\u001b[49m\u001b[43m,\u001b[49m\n\u001b[32m    288\u001b[39m \u001b[43m        \u001b[49m\u001b[43mcursor\u001b[49m\u001b[43m,\u001b[49m\n\u001b[32m    289\u001b[39m \u001b[43m        \u001b[49m\u001b[43merror_class\u001b[49m\u001b[43m,\u001b[49m\n\u001b[32m    290\u001b[39m \u001b[43m        \u001b[49m\u001b[43merror_value\u001b[49m\u001b[43m,\u001b[49m\n\u001b[32m    291\u001b[39m \u001b[43m    \u001b[49m\u001b[43m)\u001b[49m\n\u001b[32m    292\u001b[39m     \u001b[38;5;28;01mif\u001b[39;00m \u001b[38;5;129;01mnot\u001b[39;00m handed_over:\n\u001b[32m    293\u001b[39m         \u001b[38;5;28;01mraise\u001b[39;00m Error.errorhandler_make_exception(\n\u001b[32m    294\u001b[39m             error_class,\n\u001b[32m    295\u001b[39m             error_value,\n\u001b[32m    296\u001b[39m         )\n",
      "\u001b[36mFile \u001b[39m\u001b[32mc:\\Users\\MSI\\anaconda3\\envs\\snfenv\\Lib\\site-packages\\snowflake\\connector\\errors.py:341\u001b[39m, in \u001b[36mError.hand_to_other_handler\u001b[39m\u001b[34m(connection, cursor, error_class, error_value)\u001b[39m\n\u001b[32m    339\u001b[39m \u001b[38;5;28;01mif\u001b[39;00m cursor \u001b[38;5;129;01mis\u001b[39;00m \u001b[38;5;129;01mnot\u001b[39;00m \u001b[38;5;28;01mNone\u001b[39;00m:\n\u001b[32m    340\u001b[39m     cursor.messages.append((error_class, error_value))\n\u001b[32m--> \u001b[39m\u001b[32m341\u001b[39m     \u001b[43mcursor\u001b[49m\u001b[43m.\u001b[49m\u001b[43merrorhandler\u001b[49m\u001b[43m(\u001b[49m\u001b[43mconnection\u001b[49m\u001b[43m,\u001b[49m\u001b[43m \u001b[49m\u001b[43mcursor\u001b[49m\u001b[43m,\u001b[49m\u001b[43m \u001b[49m\u001b[43merror_class\u001b[49m\u001b[43m,\u001b[49m\u001b[43m \u001b[49m\u001b[43merror_value\u001b[49m\u001b[43m)\u001b[49m\n\u001b[32m    342\u001b[39m     \u001b[38;5;28;01mreturn\u001b[39;00m \u001b[38;5;28;01mTrue\u001b[39;00m\n\u001b[32m    343\u001b[39m \u001b[38;5;28;01melif\u001b[39;00m connection \u001b[38;5;129;01mis\u001b[39;00m \u001b[38;5;129;01mnot\u001b[39;00m \u001b[38;5;28;01mNone\u001b[39;00m:\n",
      "\u001b[36mFile \u001b[39m\u001b[32mc:\\Users\\MSI\\anaconda3\\envs\\snfenv\\Lib\\site-packages\\snowflake\\connector\\errors.py:217\u001b[39m, in \u001b[36mError.default_errorhandler\u001b[39m\u001b[34m(connection, cursor, error_class, error_value)\u001b[39m\n\u001b[32m    215\u001b[39m errno = error_value.get(\u001b[33m\"\u001b[39m\u001b[33merrno\u001b[39m\u001b[33m\"\u001b[39m)\n\u001b[32m    216\u001b[39m done_format_msg = error_value.get(\u001b[33m\"\u001b[39m\u001b[33mdone_format_msg\u001b[39m\u001b[33m\"\u001b[39m)\n\u001b[32m--> \u001b[39m\u001b[32m217\u001b[39m \u001b[38;5;28;01mraise\u001b[39;00m error_class(\n\u001b[32m    218\u001b[39m     msg=error_value.get(\u001b[33m\"\u001b[39m\u001b[33mmsg\u001b[39m\u001b[33m\"\u001b[39m),\n\u001b[32m    219\u001b[39m     errno=\u001b[38;5;28;01mNone\u001b[39;00m \u001b[38;5;28;01mif\u001b[39;00m errno \u001b[38;5;129;01mis\u001b[39;00m \u001b[38;5;28;01mNone\u001b[39;00m \u001b[38;5;28;01melse\u001b[39;00m \u001b[38;5;28mint\u001b[39m(errno),\n\u001b[32m    220\u001b[39m     sqlstate=error_value.get(\u001b[33m\"\u001b[39m\u001b[33msqlstate\u001b[39m\u001b[33m\"\u001b[39m),\n\u001b[32m    221\u001b[39m     sfqid=error_value.get(\u001b[33m\"\u001b[39m\u001b[33msfqid\u001b[39m\u001b[33m\"\u001b[39m),\n\u001b[32m    222\u001b[39m     query=error_value.get(\u001b[33m\"\u001b[39m\u001b[33mquery\u001b[39m\u001b[33m\"\u001b[39m),\n\u001b[32m    223\u001b[39m     done_format_msg=(\n\u001b[32m    224\u001b[39m         \u001b[38;5;28;01mNone\u001b[39;00m \u001b[38;5;28;01mif\u001b[39;00m done_format_msg \u001b[38;5;129;01mis\u001b[39;00m \u001b[38;5;28;01mNone\u001b[39;00m \u001b[38;5;28;01melse\u001b[39;00m \u001b[38;5;28mbool\u001b[39m(done_format_msg)\n\u001b[32m    225\u001b[39m     ),\n\u001b[32m    226\u001b[39m     connection=connection,\n\u001b[32m    227\u001b[39m     cursor=cursor,\n\u001b[32m    228\u001b[39m )\n",
      "\u001b[31mProgrammingError\u001b[39m: 002003 (02000): SQL compilation error:\nDatabase 'E2E_SNOW_MLOPS_DB' does not exist or not authorized."
     ]
    }
   ],
   "source": [
    "create_schema=\"\"\" \n",
    "CREATE OR REPLACE SCHEMA\n",
    "    e2e_snow_mlops_db.mlops_schema;\n",
    "\"\"\"\n",
    "conn.cursor().execute(create_schema)"
   ]
  }
 ],
 "metadata": {
  "kernelspec": {
   "display_name": "snfenv",
   "language": "python",
   "name": "python3"
  },
  "language_info": {
   "codemirror_mode": {
    "name": "ipython",
    "version": 3
   },
   "file_extension": ".py",
   "mimetype": "text/x-python",
   "name": "python",
   "nbconvert_exporter": "python",
   "pygments_lexer": "ipython3",
   "version": "3.12.11"
  }
 },
 "nbformat": 4,
 "nbformat_minor": 5
}

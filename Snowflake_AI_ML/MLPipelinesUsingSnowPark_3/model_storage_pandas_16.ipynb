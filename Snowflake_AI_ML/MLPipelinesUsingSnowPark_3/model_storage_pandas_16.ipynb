{
 "metadata": {
  "kernelspec": {
   "display_name": "Streamlit Notebook",
   "name": "streamlit"
  },
  "lastEditStatus": {
   "notebookId": "lncfj563knmvawwbpzir",
   "authorId": "2745791198920",
   "authorName": "RITISHADHIKARI",
   "authorEmail": "radhik0607@gmail.com",
   "sessionId": "d8fbfa9d-bcac-4603-a3e5-1911171ae571",
   "lastEditTime": 1760100708431
  }
 },
 "nbformat_minor": 5,
 "nbformat": 4,
 "cells": [
  {
   "cell_type": "code",
   "id": "d3bffde9-7be1-4811-a2af-cd17dcb035f7",
   "metadata": {
    "language": "python",
    "name": "cell1"
   },
   "outputs": [],
   "source": "from snowflake.snowpark import Session\nfrom snowflake.ml.utils.connection_params import SnowflakeLoginOptions\nfrom snowflake.snowpark import functions as F\nfrom snowflake.snowpark.types import DoubleType\nfrom dotenv import load_dotenv\nfrom sklearn.feature_extraction import text as txt\nfrom sklearn import svm\nfrom joblib import dump",
   "execution_count": null
  },
  {
   "cell_type": "code",
   "id": "c5d60a21-84e2-47b8-a3eb-2a63f964cc5a",
   "metadata": {
    "language": "python",
    "name": "cell14",
    "codeCollapsed": false
   },
   "outputs": [],
   "source": "load_dotenv()",
   "execution_count": null
  },
  {
   "cell_type": "code",
   "id": "e98c71c4-729d-43be-b92c-374cad339ece",
   "metadata": {
    "language": "python",
    "name": "cell43"
   },
   "outputs": [],
   "source": "!pip install scikit-learn",
   "execution_count": null
  },
  {
   "cell_type": "code",
   "id": "818d03ca-4373-44e1-90c5-1cf377afb7b7",
   "metadata": {
    "language": "python",
    "name": "cell2",
    "codeCollapsed": false
   },
   "outputs": [],
   "source": "pars=SnowflakeLoginOptions(\"test_conn\")",
   "execution_count": null
  },
  {
   "cell_type": "code",
   "id": "0d851b7d-ec9b-49bb-aced-a4a17ee898e3",
   "metadata": {
    "language": "python",
    "name": "cell18"
   },
   "outputs": [],
   "source": "pars",
   "execution_count": null
  },
  {
   "cell_type": "code",
   "id": "1637209a-a40c-429e-b716-9f07d1fa668c",
   "metadata": {
    "language": "python",
    "name": "cell3",
    "codeCollapsed": false
   },
   "outputs": [],
   "source": "pars['database']='imdb'\npars['schema']='public'",
   "execution_count": null
  },
  {
   "cell_type": "code",
   "id": "673150fc-689e-473a-8016-663ab17bcb0f",
   "metadata": {
    "language": "python",
    "name": "cell4"
   },
   "outputs": [],
   "source": "session=Session.builder.configs(pars).create()",
   "execution_count": null
  },
  {
   "cell_type": "markdown",
   "id": "06073ad0-0e85-4f91-9ae8-480f225c4ebc",
   "metadata": {
    "name": "cell17",
    "collapsed": false
   },
   "source": ""
  },
  {
   "cell_type": "code",
   "id": "ddc181dc-9084-4460-bff7-967e2380d75b",
   "metadata": {
    "language": "python",
    "name": "cell16"
   },
   "outputs": [],
   "source": "session",
   "execution_count": null
  },
  {
   "cell_type": "code",
   "id": "c0f360fa-5a31-4282-9d49-957ff1477e0e",
   "metadata": {
    "language": "python",
    "name": "cell13"
   },
   "outputs": [],
   "source": "session.query_tag='sentiment-1'",
   "execution_count": null
  },
  {
   "cell_type": "code",
   "id": "51e4dad3-eb8d-4f3f-9b82-93e2b010c101",
   "metadata": {
    "language": "python",
    "name": "cell15"
   },
   "outputs": [],
   "source": "df=session.table(\"train_dataset\")\ndf.show()",
   "execution_count": null
  },
  {
   "cell_type": "code",
   "id": "630c87f4-5385-4e07-a709-0f85b618ba77",
   "metadata": {
    "language": "python",
    "name": "cell42"
   },
   "outputs": [],
   "source": "df.columns",
   "execution_count": null
  },
  {
   "cell_type": "code",
   "id": "1e0bec77-5d0e-4794-857f-01d687f177a9",
   "metadata": {
    "language": "python",
    "name": "cell41",
    "codeCollapsed": false
   },
   "outputs": [],
   "source": "df_flag=df.withColumn(\n    \"SENTIMENT_FLAG\",\n    F.when(df['SENTIMENT']=='positive',1).otherwise(value=2)\n)\n\ndf_flag.show()",
   "execution_count": null
  },
  {
   "cell_type": "code",
   "id": "e85860eb-e598-47d7-bf9e-be082e51b8e1",
   "metadata": {
    "language": "python",
    "name": "cell40"
   },
   "outputs": [],
   "source": "train_x=df_flag.toPandas()['REVIEW'].values\ntrain_y=df_flag.toPandas()['SENTIMENT_FLAG'].values",
   "execution_count": null
  },
  {
   "cell_type": "code",
   "id": "2467f449-2cb2-4afb-8237-9b4fb24fc5e7",
   "metadata": {
    "language": "python",
    "name": "cell39"
   },
   "outputs": [],
   "source": "vector=txt.CountVectorizer(\n    token_pattern=\"[\\\\w]+\\\\w\\\\b\",\n    ngram_range=(1,2),\n    analyzer='word',\n    max_df=0.02,\n    min_df=1*1./len(train_x),\n    vocabulary=None,\n    binary=True\n)",
   "execution_count": null
  },
  {
   "cell_type": "code",
   "id": "47541104-53f9-4b1a-b5f3-e55bf08b31a9",
   "metadata": {
    "language": "python",
    "name": "cell38"
   },
   "outputs": [],
   "source": "bow=vector.fit_transform(train_x)\ndump(vector,'vect_review1.joblib',compress=True)",
   "execution_count": null
  },
  {
   "cell_type": "code",
   "id": "7fc1fdf9-de2a-455d-9c1f-4d46a9c5090e",
   "metadata": {
    "language": "python",
    "name": "cell37"
   },
   "outputs": [],
   "source": "train_x.shape",
   "execution_count": null
  },
  {
   "cell_type": "code",
   "id": "18b99e46-a0d9-4783-91bb-cb609dc8b583",
   "metadata": {
    "language": "python",
    "name": "cell36",
    "codeCollapsed": false
   },
   "outputs": [],
   "source": "model=svm.LinearSVC(C=1.8,max_iter=1000)",
   "execution_count": null
  },
  {
   "cell_type": "code",
   "id": "0360a56e-411a-459a-b022-b586d067cb7a",
   "metadata": {
    "language": "python",
    "name": "cell35"
   },
   "outputs": [],
   "source": "model.fit(bow,train_y)",
   "execution_count": null
  },
  {
   "cell_type": "code",
   "id": "50db74f2-cfe2-4e72-a54d-926583ee3c3a",
   "metadata": {
    "language": "python",
    "name": "cell34"
   },
   "outputs": [],
   "source": "dump(model,\"model_review1.joblib\",compress=True)",
   "execution_count": null
  },
  {
   "cell_type": "code",
   "id": "aba4c288-88a6-4b8f-9061-8b96b531b4fd",
   "metadata": {
    "language": "python",
    "name": "cell33"
   },
   "outputs": [],
   "source": "# R2 Score:\nmodel.score(bow,train_y)",
   "execution_count": null
  },
  {
   "cell_type": "code",
   "id": "60cfddcb-39e7-48f0-91a2-b1544586b0dc",
   "metadata": {
    "language": "python",
    "name": "cell31"
   },
   "outputs": [],
   "source": "# Isolate all code into a Python function\ndef train_imdb(session:Session, train_dataset_name:str):\n    from snowflake.snowpark import Session\n    from snowflake.ml.utils.connection_params import SnowflakeLoginOptions\n    from snowflake.snowpark import functions as F\n    from snowflake.snowpark.types import DoubleType\n    from dotenv import load_dotenv\n    from sklearn.feature_extraction import text as txt\n    from sklearn import svm\n    from joblib import dump\n\n\n    df=session.table(train_dataset_name)\n    df_flag=df.withColumn(\n        \"SENTIMENT_FLAG\",\n        F.when(df['SENTIMENT']=='positive',1).otherwise(value=2)\n    )\n    train_x=df_flag.toPandas()['REVIEW'].values\n    train_y=df_flag.toPandas()['SENTIMENT_FLAG'].values\n    \n    vector=txt.CountVectorizer(\n        token_pattern=\"[\\\\w]+\\\\w\\\\b\",\n        ngram_range=(1,2),\n        analyzer='word',\n        max_df=0.02,\n        min_df=1*1./len(train_x),\n        vocabulary=None,\n        binary=True\n    )\n    \n    bow=vector.fit_transform(train_x)\n    local_bow_name='vect_review1.joblib'\n    dump(vector,local_bow_name,compress=True)\n    session.file.put(\n            local_file_name=local_bow_name,\n            stage_location=\"@models\",\n            auto_compress=True,\n            overwrite=True\n    )\n\n    model=svm.LinearSVC(C=1.8,max_iter=1000)\n    \n    model.fit(bow,train_y)\n    \n    local_model_name='model_review1.joblib'\n    dump(model,local_model_name,compress=True)\n    session.file.put(\n        local_file_name=local_model_name,\n        stage_location=\"@models\",\n        auto_compress=True,\n        overwrite=True\n    )\n    \n    return {'Status':'Success','R2 Score Train': model.score(bow,train_y)}",
   "execution_count": null
  },
  {
   "cell_type": "code",
   "id": "d446783a-5021-48b2-b5f4-3489d0afd909",
   "metadata": {
    "language": "python",
    "name": "cell30"
   },
   "outputs": [],
   "source": "ret=train_imdb(session=session,train_dataset_name=\"train_dataset\")",
   "execution_count": null
  },
  {
   "cell_type": "code",
   "id": "315db91d-3e2d-44c2-a663-07fcb214ab26",
   "metadata": {
    "language": "python",
    "name": "cell29"
   },
   "outputs": [],
   "source": "ret",
   "execution_count": null
  },
  {
   "cell_type": "code",
   "id": "ede0279a-f379-472f-931b-d8b8f2124bab",
   "metadata": {
    "language": "python",
    "name": "cell28",
    "codeCollapsed": false
   },
   "outputs": [],
   "source": "session.sql(\"LS @models\").show()",
   "execution_count": null
  },
  {
   "cell_type": "code",
   "id": "32e52c34-85bf-412b-b2ce-11a387e90e27",
   "metadata": {
    "language": "python",
    "name": "cell27",
    "codeCollapsed": false
   },
   "outputs": [],
   "source": "",
   "execution_count": null
  },
  {
   "cell_type": "code",
   "id": "aed67b8b-6922-40d4-99f5-7372e4cade32",
   "metadata": {
    "language": "python",
    "name": "cell26"
   },
   "outputs": [],
   "source": "",
   "execution_count": null
  },
  {
   "cell_type": "code",
   "id": "43fd8cb1-4c5d-4138-b84c-b56bc5e95e58",
   "metadata": {
    "language": "python",
    "name": "cell25"
   },
   "outputs": [],
   "source": "",
   "execution_count": null
  },
  {
   "cell_type": "code",
   "id": "7a277ffa-7d52-4c13-92cd-b20c3c4854f6",
   "metadata": {
    "language": "python",
    "name": "cell24"
   },
   "outputs": [],
   "source": "",
   "execution_count": null
  },
  {
   "cell_type": "code",
   "id": "5fb668dd-ad33-4e7a-86a4-502502780be7",
   "metadata": {
    "language": "python",
    "name": "cell23"
   },
   "outputs": [],
   "source": "",
   "execution_count": null
  },
  {
   "cell_type": "code",
   "id": "b49ed4a0-f8e0-454e-9843-ae242f45531c",
   "metadata": {
    "language": "python",
    "name": "cell22"
   },
   "outputs": [],
   "source": "",
   "execution_count": null
  },
  {
   "cell_type": "code",
   "id": "89f805a4-a0e5-46c4-9e36-c0af65c743a4",
   "metadata": {
    "language": "python",
    "name": "cell21"
   },
   "outputs": [],
   "source": "",
   "execution_count": null
  },
  {
   "cell_type": "code",
   "id": "4b372154-2f68-462c-a96e-6a94408217e0",
   "metadata": {
    "language": "python",
    "name": "cell20"
   },
   "outputs": [],
   "source": "",
   "execution_count": null
  },
  {
   "cell_type": "code",
   "id": "3ec45d03-339a-40f8-871f-446cbb47f64f",
   "metadata": {
    "language": "python",
    "name": "cell19"
   },
   "outputs": [],
   "source": "",
   "execution_count": null
  },
  {
   "cell_type": "code",
   "id": "e0466de5-864b-4140-b6b5-373361ff60b9",
   "metadata": {
    "language": "python",
    "name": "cell5"
   },
   "outputs": [],
   "source": "",
   "execution_count": null
  },
  {
   "cell_type": "code",
   "id": "312b3b7d-bc6d-4979-b403-06938f501249",
   "metadata": {
    "language": "python",
    "name": "cell6"
   },
   "outputs": [],
   "source": "pars={\n    \"field_delimiter\":\",\",\n    \"field_optionally_enclosed_by\":'\"',\n    \"infer_schema\":True,\n    \"parse_header\":True\n}",
   "execution_count": null
  },
  {
   "cell_type": "code",
   "id": "297b535f-3eb3-40e5-921a-70f76bc50536",
   "metadata": {
    "language": "python",
    "name": "cell7",
    "codeCollapsed": false
   },
   "outputs": [],
   "source": "df=session.read.options(pars).csv(\"@EXT_STAGE_LIST\")\ndf.show()",
   "execution_count": null
  },
  {
   "cell_type": "code",
   "id": "f1ed4580-20be-441a-8337-b6e35e10b95e",
   "metadata": {
    "language": "python",
    "name": "cell8"
   },
   "outputs": [],
   "source": "df.describe().show()",
   "execution_count": null
  },
  {
   "cell_type": "code",
   "id": "9b22d304-2fe9-42c7-8a8c-9e6373275d32",
   "metadata": {
    "language": "python",
    "name": "cell9"
   },
   "outputs": [],
   "source": "df.with_column(\n        \"CUT\",\n        F.upper(\n            F.regexp_replace(\n                subject=F.col(\"CUT\"),\n                pattern=\"[^a-zA-Z0-9]+\",\n                replacement=\"_\"  \n            )\n        )\n    )\ndf.show()",
   "execution_count": null
  },
  {
   "cell_type": "code",
   "id": "a2dda6c8-1a6b-4493-b43d-094801615d6d",
   "metadata": {
    "language": "python",
    "name": "cell10"
   },
   "outputs": [],
   "source": "list(df.schema)",
   "execution_count": null
  },
  {
   "cell_type": "code",
   "id": "626f8cbd-1ee9-47a9-9e04-df9b2388826b",
   "metadata": {
    "language": "python",
    "name": "cell12"
   },
   "outputs": [],
   "source": "df.columns",
   "execution_count": null
  },
  {
   "cell_type": "code",
   "id": "5be093ab-e2b5-4934-bf63-4b75f3eed880",
   "metadata": {
    "language": "python",
    "name": "cell11",
    "codeCollapsed": false
   },
   "outputs": [],
   "source": "for colname in ['carat',\"X\",\"Y\",\"Z\",\"DEPTH\",\"TABLE_PCT\"]:\n    df=df.with_column(\n        colname,\n        df[colname].cast(DoubleType())\n    )",
   "execution_count": null
  }
 ]
}
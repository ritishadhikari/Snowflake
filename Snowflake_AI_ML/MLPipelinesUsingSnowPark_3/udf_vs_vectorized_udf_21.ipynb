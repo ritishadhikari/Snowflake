{
 "metadata": {
  "kernelspec": {
   "display_name": "Streamlit Notebook",
   "name": "streamlit"
  },
  "lastEditStatus": {
   "notebookId": "prexotyjbbjt6zlaglfg",
   "authorId": "2745791198920",
   "authorName": "RITISHADHIKARI",
   "authorEmail": "radhik0607@gmail.com",
   "sessionId": "db99cfea-caeb-4caa-9e2e-9a6a8db9013b",
   "lastEditTime": 1760421132119
  }
 },
 "nbformat_minor": 5,
 "nbformat": 4,
 "cells": [
  {
   "cell_type": "code",
   "id": "50f2a2d6-f595-49bf-8e31-4875ef10e9c6",
   "metadata": {
    "language": "python",
    "name": "cell1"
   },
   "outputs": [],
   "source": "from snowflake.snowpark import Session\nfrom snowflake.ml.utils.connection_params import SnowflakeLoginOptions\nfrom dotenv import load_dotenv\nfrom snowflake.snowpark.functions import avg,stddev,udf\nfrom snowflake.snowpark.types import PandasSeries\nfrom datetime import datetime",
   "execution_count": null
  },
  {
   "cell_type": "code",
   "id": "7621ae12-ca33-4cca-bcb7-4e3a7e181f19",
   "metadata": {
    "language": "python",
    "name": "cell2",
    "codeCollapsed": false
   },
   "outputs": [],
   "source": "load_dotenv()",
   "execution_count": null
  },
  {
   "cell_type": "code",
   "id": "e6a4361b-8de1-4a23-bb66-aaf02dcf1107",
   "metadata": {
    "language": "python",
    "name": "cell3"
   },
   "outputs": [],
   "source": "# session=Session.builder.configs(\n#     SnowflakeLoginOptions(\"test_conn\")\n# )\n\nsession=Session.builder.getOrCreate()",
   "execution_count": null
  },
  {
   "cell_type": "code",
   "id": "68c520dc-1a59-41b5-bfb3-b59b781c20a7",
   "metadata": {
    "language": "python",
    "name": "cell4"
   },
   "outputs": [],
   "source": "session",
   "execution_count": null
  },
  {
   "cell_type": "code",
   "id": "96f7cf68-c519-45a4-86b1-f69e08aec915",
   "metadata": {
    "language": "python",
    "name": "cell5"
   },
   "outputs": [],
   "source": "df=session.table(\"snowflake_sample_data.tpch_sf100.customer\")\nprint(f\"Count: {df.count()}\")",
   "execution_count": null
  },
  {
   "cell_type": "code",
   "id": "9f2ddd44-0d44-4a74-afb7-9ef3eb65bd94",
   "metadata": {
    "language": "python",
    "name": "cell6"
   },
   "outputs": [],
   "source": "df_mean=float(\n    df.agg(\n        avg(\"C_ACCTBAL\")\n    ).collect()[0][0]\n)\nprint(f\"mean:{df_mean}\")",
   "execution_count": null
  },
  {
   "cell_type": "code",
   "id": "5bdb00da-71d0-409f-a873-d94ea3636aa4",
   "metadata": {
    "language": "python",
    "name": "cell7"
   },
   "outputs": [],
   "source": "df_stddev=float(\n    df.agg(\n        stddev(\"C_ACCTBAL\")\n    ).collect()[0][0]\n)\nprint(f\"stddev:{df_stddev}\")",
   "execution_count": null
  },
  {
   "cell_type": "code",
   "id": "86264093-24ba-48c4-a38c-2a6d88843b91",
   "metadata": {
    "language": "python",
    "name": "cell8"
   },
   "outputs": [],
   "source": "@udf()\ndef udf_mean_stddev(inp:float) -> float:\n    return (inp-df_mean+df_stddev)*10000.0\n\n\n@udf()\ndef udf_mean_stddev_vect(inp:PandasSeries[float]) -> PandasSeries[float]:\n    return (inp-df_mean+df_stddev)*10000.0",
   "execution_count": null
  },
  {
   "cell_type": "code",
   "id": "1b795dcf-7cb4-4ae1-92b7-b1b160618346",
   "metadata": {
    "language": "python",
    "name": "cell9"
   },
   "outputs": [],
   "source": "st=datetime.now()\ndf.select(\n    udf_mean_stddev(\"C_ACCTBAL\").alias(\"bal_from_mean\")).\\\n        agg(avg('bal_from_mean')\n    ).collect()\nend=datetime.now()\nprint(f\"udf_mean_stddev : {(end-st).total_seconds()} seconds\")",
   "execution_count": null
  },
  {
   "cell_type": "code",
   "id": "92624c54-3fc4-4425-bd17-c7a5db0adf05",
   "metadata": {
    "language": "python",
    "name": "cell10"
   },
   "outputs": [],
   "source": "st=datetime.now()\ndf.select(\n    udf_mean_stddev_vect(\"C_ACCTBAL\").alias(\"bal_from_mean\")).\\\n        agg(avg('bal_from_mean')\n    ).collect()\nend=datetime.now()\nprint(f\"udf_mean_stddev_vect : {(end-st).total_seconds()} seconds\")",
   "execution_count": null
  }
 ]
}
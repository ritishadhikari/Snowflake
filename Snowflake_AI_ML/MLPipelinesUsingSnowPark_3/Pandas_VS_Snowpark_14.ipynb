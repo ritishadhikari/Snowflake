{
 "metadata": {
  "kernelspec": {
   "display_name": "Streamlit Notebook",
   "name": "streamlit"
  },
  "lastEditStatus": {
   "notebookId": "sepigflvaxg4ttjfoiam",
   "authorId": "2745791198920",
   "authorName": "RITISHADHIKARI",
   "authorEmail": "radhik0607@gmail.com",
   "sessionId": "bc52abae-d00d-455f-932a-f1d0517c1540",
   "lastEditTime": 1760006147508
  }
 },
 "nbformat_minor": 5,
 "nbformat": 4,
 "cells": [
  {
   "cell_type": "code",
   "id": "3775908f-ca36-4846-8f38-5adca39217f2",
   "metadata": {
    "language": "python",
    "name": "cell1"
   },
   "source": "from snowflake.snowpark import Session\nfrom snowflake.ml.utils.connection_params import SnowflakeLoginOptions\nimport os\nimport pandas as pd\nimport numpy as np\nfrom snowflake import connector\nfrom dotenv import load_dotenv\nfrom pprint import pprint\nimport sys\nfrom snowflake.connector.pandas_tools import write_pandas\nfrom snowflake.snowpark import functions as F",
   "execution_count": null,
   "outputs": []
  },
  {
   "cell_type": "code",
   "id": "8d50cbf4-0c8d-4950-86cb-114990437ac9",
   "metadata": {
    "language": "python",
    "name": "cell2",
    "codeCollapsed": false
   },
   "source": "load_dotenv()",
   "execution_count": null,
   "outputs": []
  },
  {
   "cell_type": "code",
   "id": "d381f323-bd38-4d8f-a27d-ced941429285",
   "metadata": {
    "language": "python",
    "name": "cell6",
    "codeCollapsed": false
   },
   "outputs": [],
   "source": "account_name=os.environ.get('account_name')\nuser_name=os.environ.get('user_name')\npassword=os.environ.get('password')\ndatabase=os.environ.get('database')\nschema=os.environ.get('schema')",
   "execution_count": null
  },
  {
   "cell_type": "code",
   "id": "07cea99e-11b2-49a0-8cc4-4e22522ba8df",
   "metadata": {
    "language": "python",
    "name": "cell34"
   },
   "outputs": [],
   "source": "os.environ['SNOWFLAKE_ACCOUNT'] = account_name\nos.environ['SNOWFLAKE_USER'] = user_name\nos.environ['SNOWFLAKE_PASSWORD'] = password\nos.environ['SNOWFLAKE_DATABASE'] = database\nos.environ['SNOWFLAKE_SCHEMA'] = schema",
   "execution_count": null
  },
  {
   "cell_type": "code",
   "id": "e380ab72-4a5d-4ec2-a72b-b3d8b8f11744",
   "metadata": {
    "language": "python",
    "name": "cell5",
    "codeCollapsed": false
   },
   "outputs": [],
   "source": "conn=connector.connect(\n        account=account_name,\n        user=user_name,\n        password=password,\n        database=database,\n        schema=schema\n    )",
   "execution_count": null
  },
  {
   "cell_type": "code",
   "id": "c695373e-ac74-4b62-a1f1-08206cbd5c81",
   "metadata": {
    "language": "python",
    "name": "cell3"
   },
   "source": "query=\"\"\"\nSELECT \n    dname,\n    SUM(sal),\nFROM \n    test.public.emp\n        JOIN\n    dept\nON\n     emp.deptno=dept.deptno\nWHERE\n    dname!='Finance'\nGROUP BY\n    dname\nORDER BY \n    dname;\n\"\"\"",
   "execution_count": null,
   "outputs": []
  },
  {
   "cell_type": "code",
   "id": "4ec547d7-c7bb-445d-b73d-ef173e358b8c",
   "metadata": {
    "language": "python",
    "name": "cell4"
   },
   "outputs": [],
   "source": "df=pd.read_sql(sql=query,con=conn)",
   "execution_count": null
  },
  {
   "cell_type": "code",
   "id": "a184aac4-5958-4698-8be3-5d88d2bd90e6",
   "metadata": {
    "language": "python",
    "name": "cell7"
   },
   "outputs": [],
   "source": "df",
   "execution_count": null
  },
  {
   "cell_type": "code",
   "id": "a29f50cd-b137-490f-9eba-f8dd2c8a54ee",
   "metadata": {
    "language": "python",
    "name": "cell8"
   },
   "outputs": [],
   "source": "session=Session.builder.configs(SnowflakeLoginOptions(\"test_conn\")).create()",
   "execution_count": null
  },
  {
   "cell_type": "markdown",
   "id": "2498d8a4-32de-4748-a5de-bf561b564e61",
   "metadata": {
    "name": "cell15",
    "collapsed": false
   },
   "source": "Using Pandas Dataframe "
  },
  {
   "cell_type": "code",
   "id": "5658dbc3-82ff-44df-a500-a7ae0e6cc850",
   "metadata": {
    "language": "python",
    "name": "cell9"
   },
   "outputs": [],
   "source": "emps=session.table(\"emp\").to_pandas()[['DEPTNO','SAL']]\ndepts=session.table(\"dept\").to_pandas()[['DEPTNO','DNAME']]",
   "execution_count": null
  },
  {
   "cell_type": "code",
   "id": "538df422-773f-4fa5-9430-31a5b6996f0e",
   "metadata": {
    "language": "python",
    "name": "cell10"
   },
   "outputs": [],
   "source": "df=pd.merge(left=emps,right=depts,on='DEPTNO',how='inner')[['DNAME','SAL']]",
   "execution_count": null
  },
  {
   "cell_type": "code",
   "id": "b3c9771b-270e-4c51-a6d6-55b9c96d4a7f",
   "metadata": {
    "language": "python",
    "name": "cell12"
   },
   "outputs": [],
   "source": "df",
   "execution_count": null
  },
  {
   "cell_type": "code",
   "id": "e4b358f5-024a-421e-be7c-617f31e5f2bf",
   "metadata": {
    "language": "python",
    "name": "cell11"
   },
   "outputs": [],
   "source": "df=df.loc[~(df['DNAME']=='Finance'),:]",
   "execution_count": null
  },
  {
   "cell_type": "code",
   "id": "798cf911-7c62-496c-9a79-ad6d2f5945fa",
   "metadata": {
    "language": "python",
    "name": "cell13"
   },
   "outputs": [],
   "source": "df",
   "execution_count": null
  },
  {
   "cell_type": "code",
   "id": "9c236730-2346-42a4-b644-e80bc4f5d3c9",
   "metadata": {
    "language": "python",
    "name": "cell14"
   },
   "outputs": [],
   "source": "df=df.groupby(['DNAME']).sum()\ndf=df.sort_values(\"DNAME\")\nprint(df)",
   "execution_count": null
  },
  {
   "cell_type": "markdown",
   "id": "d2762e63-6fa0-4a84-85f1-cb493d51a548",
   "metadata": {
    "name": "cell16",
    "collapsed": false
   },
   "source": "Using Pyspark Dataframe"
  },
  {
   "cell_type": "code",
   "id": "d8ec7854-fa63-4f2b-ace5-94844c004ab1",
   "metadata": {
    "language": "python",
    "name": "cell17"
   },
   "outputs": [],
   "source": "emps=session.table(\"EMP\").select(\"DEPTNO\",\"SAL\")\ndeps=session.table(\"DEPT\").select(\"DEPTNO\",\"DNAME\")",
   "execution_count": null
  },
  {
   "cell_type": "code",
   "id": "c0f04762-c5ab-40a9-80d4-96b065bdce3a",
   "metadata": {
    "language": "python",
    "name": "cell19"
   },
   "outputs": [],
   "source": "emps.show()",
   "execution_count": null
  },
  {
   "cell_type": "code",
   "id": "27acbe35-f603-496b-a21f-1ba383dc169c",
   "metadata": {
    "language": "python",
    "name": "cell20"
   },
   "outputs": [],
   "source": "deps.show()",
   "execution_count": null
  },
  {
   "cell_type": "code",
   "id": "afd6a937-da01-4659-a540-e2725f729c90",
   "metadata": {
    "language": "python",
    "name": "cell18"
   },
   "outputs": [],
   "source": "q=emps.join(deps, emps[\"DEPTNO\"]==deps[\"DEPTNO\"])\nq=q.filter(q.DNAME!='Finance')\nq=q.select(\"DNAME\",\"SAL\").group_by(\"DNAME\").agg({\"SAL\":\"sum\"}).sort('DNAME')\nq.show()",
   "execution_count": null
  },
  {
   "cell_type": "code",
   "id": "35c8172e-2277-44d4-866a-fa1e1f1af004",
   "metadata": {
    "language": "python",
    "name": "cell21"
   },
   "outputs": [],
   "source": "pprint(q.queries)",
   "execution_count": null
  },
  {
   "cell_type": "markdown",
   "id": "bed3dd66-98c4-42f6-b210-c987c1c525b0",
   "metadata": {
    "name": "cell23",
    "collapsed": false
   },
   "source": "Feature Engineering using Pandas Dataframe"
  },
  {
   "cell_type": "code",
   "id": "5ff63871-48df-46d0-97ec-553390d6fcef",
   "metadata": {
    "language": "python",
    "name": "cell22"
   },
   "outputs": [],
   "source": "query=\"\"\"\nSELECT \n    *\nFROM \n    test.public.housing;\n\"\"\"",
   "execution_count": null
  },
  {
   "cell_type": "code",
   "id": "bd5ec609-9186-4c21-a1a0-ebf9f89fc1c1",
   "metadata": {
    "language": "python",
    "name": "cell24"
   },
   "outputs": [],
   "source": "df=pd.read_sql(sql=query,con=conn)",
   "execution_count": null
  },
  {
   "cell_type": "code",
   "id": "42874cbd-4e5e-4c64-8038-83ca00932b44",
   "metadata": {
    "language": "python",
    "name": "cell25",
    "codeCollapsed": false
   },
   "outputs": [],
   "source": "size=np.round(sys.getsizeof(df)/(1024**2),2)\nprint(f\"Memory: {size} MB\")",
   "execution_count": null
  },
  {
   "cell_type": "code",
   "id": "922f8c2f-c31e-4d4d-92c0-b309d9e2f4f2",
   "metadata": {
    "language": "python",
    "name": "cell26"
   },
   "outputs": [],
   "source": "display(df)",
   "execution_count": null
  },
  {
   "cell_type": "code",
   "id": "3eab2733-b9d5-461a-9365-ff717ba5006d",
   "metadata": {
    "language": "python",
    "name": "cell27"
   },
   "outputs": [],
   "source": "df.head()",
   "execution_count": null
  },
  {
   "cell_type": "code",
   "id": "0a45aa4c-fa8a-4352-a034-19bd87891a26",
   "metadata": {
    "language": "python",
    "name": "cell28"
   },
   "outputs": [],
   "source": "filter=df['OCEAN_PROXIMITY'].isin(values=['INLAND','ISLAND','NEAR BAY'])\ndf=df.loc[(filter),:]\ndisplay(df)",
   "execution_count": null
  },
  {
   "cell_type": "code",
   "id": "743131ce-69d2-4c6f-97bf-9dafa9f3c46a",
   "metadata": {
    "language": "python",
    "name": "cell30"
   },
   "outputs": [],
   "source": "df.columns",
   "execution_count": null
  },
  {
   "cell_type": "code",
   "id": "6cf803df-d1ae-40aa-a3fb-a39dc61ee225",
   "metadata": {
    "language": "python",
    "name": "cell29",
    "codeCollapsed": false
   },
   "outputs": [],
   "source": "df=df.groupby(['OCEAN_PROXIMITY'])['HOUSEHOLDS'].mean()\n\n",
   "execution_count": null
  },
  {
   "cell_type": "code",
   "id": "3b4eae8e-1bc2-4d8b-ab45-61da673c2a58",
   "metadata": {
    "language": "python",
    "name": "cell31",
    "codeCollapsed": false
   },
   "outputs": [],
   "source": "df=df.to_frame()\ndf",
   "execution_count": null
  },
  {
   "cell_type": "code",
   "id": "7ec8bf0d-be93-43c0-ae62-5c5e75bbf5a0",
   "metadata": {
    "language": "python",
    "name": "cell32",
    "codeCollapsed": false
   },
   "outputs": [],
   "source": "df.rename(columns={'HOUSEHOLDS':'AVG_HOUSEHOLD'},inplace=True)\ndf",
   "execution_count": null
  },
  {
   "cell_type": "code",
   "id": "1a264e29-a2e4-424a-bcbb-6e75692e00eb",
   "metadata": {
    "language": "python",
    "name": "cell33"
   },
   "outputs": [],
   "source": "write_pandas(conn,\n             df,'test.public.housing_pandas',\n             auto_create_table=True,\n             overwrite=True)",
   "execution_count": null
  },
  {
   "cell_type": "markdown",
   "id": "caf3ae50-1af4-4671-ae41-2b47dd249974",
   "metadata": {
    "name": "cell35",
    "collapsed": false
   },
   "source": "Feature Engineering using Snowpark Dataframe"
  },
  {
   "cell_type": "code",
   "id": "ad8e9d64-c2dc-485f-9936-2cc66ead1512",
   "metadata": {
    "language": "python",
    "name": "cell36"
   },
   "outputs": [],
   "source": "query=\"\"\"\nSELECT \n    CURRENT_WAREHOUSE(),\n    CURRENT_DATABASE(),\n    CURRENT_SCHEMA();\n\"\"\"\nprint(session.sql(query).collect())",
   "execution_count": null
  },
  {
   "cell_type": "code",
   "id": "7f63c10b-0dcf-48f4-9f27-bdfde9e48462",
   "metadata": {
    "language": "python",
    "name": "cell37"
   },
   "outputs": [],
   "source": "df=session.table('HOUSING')\nsize=np.round(sys.getsizeof(df)/(1024.0**2),2)\nprint(f\"Memory: {size} MB\")  # Table will not be loaded in memory",
   "execution_count": null
  },
  {
   "cell_type": "code",
   "id": "02853d2d-4219-486c-b0b3-79c60b2541ff",
   "metadata": {
    "language": "python",
    "name": "cell38"
   },
   "outputs": [],
   "source": "df.show()",
   "execution_count": null
  },
  {
   "cell_type": "code",
   "id": "72058b21-0b8c-4eb6-bed5-39b180f01512",
   "metadata": {
    "language": "python",
    "name": "cell39"
   },
   "outputs": [],
   "source": "df.queries",
   "execution_count": null
  },
  {
   "cell_type": "code",
   "id": "d882040a-eaac-4d73-b864-71f39742d5c9",
   "metadata": {
    "language": "python",
    "name": "cell41"
   },
   "outputs": [],
   "source": "df.schema",
   "execution_count": null
  },
  {
   "cell_type": "code",
   "id": "32d38f35-233d-44a0-99ac-e02a2a5457c5",
   "metadata": {
    "language": "python",
    "name": "cell40",
    "codeCollapsed": false
   },
   "outputs": [],
   "source": "df=df.with_column(\n        'BEDROOM_RATIO',\n        F.col('TOTAL_BEDROOMS')/F.col('TOTAL_ROOMS')\n)\ndf.show()",
   "execution_count": null
  },
  {
   "cell_type": "code",
   "id": "5cc9c284-91e5-4378-9bbf-4fa5282023e7",
   "metadata": {
    "language": "python",
    "name": "cell42"
   },
   "outputs": [],
   "source": "df=df.drop('BEDROOM_RATIO')\ndf.show()",
   "execution_count": null
  },
  {
   "cell_type": "code",
   "id": "78d1ab40-2193-44c4-b104-ea27d6b3de55",
   "metadata": {
    "language": "python",
    "name": "cell43"
   },
   "outputs": [],
   "source": "df=df.filter(F.col('OCEAN_PROXIMITY').in_(['INLAND','ISLAND','NEAR BAY']))",
   "execution_count": null
  },
  {
   "cell_type": "code",
   "id": "a4fbb331-49a2-41b3-8638-62c19adfe193",
   "metadata": {
    "language": "python",
    "name": "cell44"
   },
   "outputs": [],
   "source": "df.show()",
   "execution_count": null
  },
  {
   "cell_type": "code",
   "id": "bd41493f-8e3c-49be-bd5c-35c409f4123a",
   "metadata": {
    "language": "python",
    "name": "cell45"
   },
   "outputs": [],
   "source": "df=df.group_by(['OCEAN_PROXIMITY']).agg([F.avg('HOUSEHOLDS').as_(alias='AVG_HOUSEHOLDS')])\n\ndf.show()",
   "execution_count": null
  },
  {
   "cell_type": "code",
   "id": "0ef8e79f-c562-4684-8f1e-db03d1c66503",
   "metadata": {
    "language": "python",
    "name": "cell46"
   },
   "outputs": [],
   "source": "df=df.sort(F.col('AVG_HOUSEHOLDS').asc())\ndf.show()",
   "execution_count": null
  },
  {
   "cell_type": "code",
   "id": "20c4b460-1836-40d4-92fe-e247b4581738",
   "metadata": {
    "language": "python",
    "name": "cell47"
   },
   "outputs": [],
   "source": "df.write.mode(\"overwrite\").save_as_table(\"HOUSING_SNOWPARK\")",
   "execution_count": null
  },
  {
   "cell_type": "code",
   "id": "5c7a4ede-7053-4fd2-a5a5-1110456e56dc",
   "metadata": {
    "language": "python",
    "name": "cell48"
   },
   "outputs": [],
   "source": "dfp=df.to_pandas()\ndfp",
   "execution_count": null
  }
 ]
}
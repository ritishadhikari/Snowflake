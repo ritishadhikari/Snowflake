{
 "metadata": {
  "kernelspec": {
   "display_name": "Streamlit Notebook",
   "name": "streamlit"
  },
  "lastEditStatus": {
   "notebookId": "cmysrtqkfsujx7ewbl3h",
   "authorId": "2745791198920",
   "authorName": "RITISHADHIKARI",
   "authorEmail": "radhik0607@gmail.com",
   "sessionId": "09fdc1bf-aa6b-48fd-a98b-1d8d4f22d550",
   "lastEditTime": 1760180432989
  }
 },
 "nbformat_minor": 5,
 "nbformat": 4,
 "cells": [
  {
   "cell_type": "code",
   "id": "f72cd10a-5769-46a0-8bb5-bcabd5c87f69",
   "metadata": {
    "language": "python",
    "name": "cell1"
   },
   "outputs": [],
   "source": "from sklearn.impute import SimpleImputer\nfrom sklearn.preprocessing import StandardScaler, OneHotEncoder\nfrom sklearn.compose import ColumnTransformer\nfrom sklearn.pipeline import Pipeline\nfrom sklearn.ensemble import RandomForestRegressor\nfrom snowflake.snowpark import Session\nfrom snowflake.ml.utils.connection_params import SnowflakeLoginOptions\nfrom dotenv import load_dotenv",
   "execution_count": null
  },
  {
   "cell_type": "code",
   "id": "427dc257-379d-42fe-806f-433d7f963f98",
   "metadata": {
    "language": "python",
    "name": "cell2"
   },
   "outputs": [],
   "source": "load_dotenv()",
   "execution_count": null
  },
  {
   "cell_type": "code",
   "id": "8b0b037f-8a3a-4ba2-a013-a4afd1368f4e",
   "metadata": {
    "language": "python",
    "name": "cell3",
    "codeCollapsed": false
   },
   "outputs": [],
   "source": "session=Session.builder.configs(SnowflakeLoginOptions(\"test_conn\")).create()\nsession",
   "execution_count": null
  },
  {
   "cell_type": "code",
   "id": "2d999168-4bb5-42e2-8411-17e1ead1d9df",
   "metadata": {
    "language": "python",
    "name": "cell4"
   },
   "outputs": [],
   "source": "df=session.table('HOUSING').sample(frac=0.10).to_pandas()\ndf.shape",
   "execution_count": null
  },
  {
   "cell_type": "code",
   "id": "46a95740-6a07-4601-a03a-77610451debf",
   "metadata": {
    "language": "python",
    "name": "cell5"
   },
   "outputs": [],
   "source": "X=df.loc[:,df.columns!='MEDIAN_HOUSE_VALUE']\ny=df['MEDIAN_HOUSE_VALUE']\nX,y",
   "execution_count": null
  },
  {
   "cell_type": "code",
   "id": "c72f8e3e-deea-4c79-98f5-6d1b33748148",
   "metadata": {
    "language": "python",
    "name": "cell6"
   },
   "outputs": [],
   "source": "def fit_pipeline(X,y,cat_attribs,num_attribs):\n    model=Pipeline(steps=[\n        (\n            'preprocessor',ColumnTransformer([\n                (\"num\",Pipeline(steps=[\n                    (\"imputer\",SimpleImputer(strategy='median')),\n                    ('std_scaler',StandardScaler())\n                    ]),\n                    num_attribs),\n                (\"cat\",Pipeline(steps=[\n                    (\"imputer\",SimpleImputer(strategy='most_frequent')),\n                    ('one_hot',OneHotEncoder(handle_unknown='ignore'))\n                    ]),\n                    cat_attribs)\n            ]),),\n        (\n            'model',RandomForestRegressor(n_estimators=100,random_state=42,n_jobs=1)\n        )\n    ])\n    model.fit(X,y)\n    return model",
   "execution_count": null
  },
  {
   "cell_type": "code",
   "id": "e932eb1e-b461-4639-aa8d-403815a4632f",
   "metadata": {
    "language": "python",
    "name": "cell7"
   },
   "outputs": [],
   "source": "\n\npipe=fit_pipeline(X=X,\n                  y=y,\n                  cat_attribs=['OCEAN_PROXIMITY'],\n                  num_attribs=['LONGITUDE','LATITUDE','HOUSING_MEDIAN_AGE',\n                              'TOTAL_ROOMS','TOTAL_BEDROOMS','POPULATION',\n                              'HOUSEHOLDS','MEDIAN_INCOME']\n                 )",
   "execution_count": null
  },
  {
   "cell_type": "code",
   "id": "e825a848-0d3a-488c-9cc2-444fb7cf8953",
   "metadata": {
    "language": "python",
    "name": "cell8"
   },
   "outputs": [],
   "source": "pipe",
   "execution_count": null
  },
  {
   "cell_type": "code",
   "id": "6becc8ed-5103-4e16-a1f5-6833a6fa618c",
   "metadata": {
    "language": "python",
    "name": "cell9"
   },
   "outputs": [],
   "source": "pipe.predict(X)[0]",
   "execution_count": null
  },
  {
   "cell_type": "code",
   "id": "7aa83548-bd82-4d28-b235-67d41dbc0b2c",
   "metadata": {
    "language": "python",
    "name": "cell10"
   },
   "outputs": [],
   "source": "def save_model(session:Session,model,stage_name,stage_path,model_file):\n    import io\n    import joblib\n\n    input_stream=io.BytesIO()\n    input_stream.name=model_file\n    joblib.dump(model,input_stream)\n\n    model_path=f\"{stage_name}/{stage_path}/{model_file}\"\n    session.file.put_stream(input_stream=input_stream, \n                            stage_location=model_path,\n                            overwrite=True)\n    return model_path",
   "execution_count": null
  },
  {
   "cell_type": "code",
   "id": "948d74d4-59c5-47a2-85c5-dcfcc975b0a0",
   "metadata": {
    "language": "python",
    "name": "cell11"
   },
   "outputs": [],
   "source": "def train_model(\n    session:Session,\n    training_table:str,\n    target_col:str,\n    save_stage:str\n) -> dict:\n    from datetime import datetime\n    import numpy as np\n    import pandas as pd\n    from snowflake.snowpark import types as T\n    from sklearn.metrics import mean_squared_error\n\n    now=datetime.now()\n\n    snowdf_train,snowdf_test=session.table(training_table).\\\n        random_split([0.8,0.2],seed=82)\n\n    cat_attribs=[ c.name for c in snowdf_train.schema.fields if (type(c.datatype)==T.StringType) & (c.name!=target_col)]\n    numeric_types=[T.DecimalType,T.LongType,T.DoubleType,T.FloatType,T.IntegerType]\n    num_attribs=[c.name for c in snowdf_train.schema.fields if (type(c.datatype) in numeric_types) & (c.name!=target_col)]\n\n    train_table_name=training_table+'_TRAIN'\n    snowdf_train.write.mode(save_mode=\"overwrite\").save_as_table(train_table_name)\n\n    test_table_name=training_table+'_TEST'\n    snowdf_test.write.mode(save_mode=\"overwrite\").save_as_table(test_table_name)\n\n    pd_train=snowdf_train.to_pandas()\n\n    X_train=pd_train.loc[:,pd_train.columns!=target_col]\n    y_train=pd_train[target_col]\n\n    full_pipeline=fit_pipeline(X=X_train,y=y_train,cat_attribs=cat_attribs,num_attribs=num_attribs)\n\n    save_path=now.strftime(\"%Y-%m-%d-%H%M%S\")\n    object_saved_path=save_model(session=session,model=full_pipeline,\n               stage_name=f\"@{save_stage}/models\",stage_path=save_path,model_file='housing_fores_reg.joblib')\n\n    pd_test=snowdf_test.to_pandas()\n\n    X_test=pd_test.loc[:,pd_train.columns!=target_col]\n    y_test=pd_test[target_col]\n\n    housing_predictions=full_pipeline.predict(X_test)\n\n    lin_mse=mean_squared_error(y_test,housing_predictions)\n    lin_rmse=np.sqrt(lin_mse)\n\n    ret_dict={\n        \"MSE\":lin_mse,\n        \"RMSE\":lin_rmse,\n        \"model_path\":object_saved_path,\n        \"train_table\":train_table_name,\n        \"test_table\":test_table_name\n    }\n\n    return ret_dict",
   "execution_count": null
  },
  {
   "cell_type": "code",
   "id": "e28a3353-9b04-43ef-b008-7e664b21d4d7",
   "metadata": {
    "language": "python",
    "name": "cell12"
   },
   "outputs": [],
   "source": "session.clear_packages()\nsession.clear_imports()\n\nsession.add_packages('snowflake-snowpark-python','scikit-learn','pandas','numpy','joblib')\nfrom snowflake.snowpark import functions as F\ntrain_model_sp=F.sproc(func=train_model,name=\"train_house_sp\",replace=True,is_permanent=True,\n                      stage_location=\"int_stage/sp/\",session=session)",
   "execution_count": null
  },
  {
   "cell_type": "code",
   "id": "41304038-0203-4094-ae55-82b48039a155",
   "metadata": {
    "language": "python",
    "name": "cell14"
   },
   "outputs": [],
   "source": "ret=train_model_sp(session,'HOUSING',\"MEDIAN_HOUSE_VALUE\",\"int_stage\")",
   "execution_count": null
  },
  {
   "cell_type": "code",
   "id": "2e2ff9e3-8123-4460-b02f-ef8cd7145ef2",
   "metadata": {
    "language": "python",
    "name": "cell15"
   },
   "outputs": [],
   "source": "ret",
   "execution_count": null
  },
  {
   "cell_type": "code",
   "id": "d6fb3a34-e780-464c-a4d5-a488a2bbeb0d",
   "metadata": {
    "language": "python",
    "name": "cell13",
    "codeCollapsed": false
   },
   "outputs": [],
   "source": "session.sql(\"LIST @int_stage\")",
   "execution_count": null
  },
  {
   "cell_type": "code",
   "id": "64944aeb-0aa4-47b6-b22c-eb6deadda11e",
   "metadata": {
    "language": "python",
    "name": "cell16"
   },
   "outputs": [],
   "source": "",
   "execution_count": null
  }
 ]
}
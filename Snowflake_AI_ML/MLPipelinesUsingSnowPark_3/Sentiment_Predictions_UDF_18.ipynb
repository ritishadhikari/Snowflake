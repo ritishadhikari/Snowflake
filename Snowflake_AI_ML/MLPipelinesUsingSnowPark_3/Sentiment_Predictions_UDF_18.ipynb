{
 "metadata": {
  "kernelspec": {
   "display_name": "Streamlit Notebook",
   "name": "streamlit"
  },
  "lastEditStatus": {
   "notebookId": "amfcbtdhpsmitnmfh5ph",
   "authorId": "2745791198920",
   "authorName": "RITISHADHIKARI",
   "authorEmail": "radhik0607@gmail.com",
   "sessionId": "4c74ad01-335f-46bb-a13c-e19c14be782a",
   "lastEditTime": 1760344550969
  }
 },
 "nbformat_minor": 5,
 "nbformat": 4,
 "cells": [
  {
   "cell_type": "code",
   "id": "8a437c43-4944-47d8-b975-d9db209fafa7",
   "metadata": {
    "language": "python",
    "name": "cell1"
   },
   "outputs": [],
   "source": "from snowflake.snowpark import Session\nfrom snowflake.ml.utils.connection_params import SnowflakeLoginOptions\nfrom snowflake.snowpark import functions as F\nfrom snowflake.snowpark.types import DoubleType, Variant, PandasDataFrame, PandasSeries\nfrom dotenv import load_dotenv\nfrom sklearn.feature_extraction import text as txt\nfrom sklearn import svm\nfrom joblib import dump\nfrom snowflake.snowpark.functions import sproc,udf,call_udf,col\nimport cachetools",
   "execution_count": null
  },
  {
   "cell_type": "code",
   "id": "e6b0f369-9cd4-4676-9381-2aee46c207eb",
   "metadata": {
    "language": "python",
    "name": "cell2",
    "codeCollapsed": false
   },
   "outputs": [],
   "source": "load_dotenv()",
   "execution_count": null
  },
  {
   "cell_type": "code",
   "id": "1b974b1d-273f-444c-9cd8-4392f55c0744",
   "metadata": {
    "language": "python",
    "name": "cell3"
   },
   "outputs": [],
   "source": "pars=SnowflakeLoginOptions(\"test_conn\")",
   "execution_count": null
  },
  {
   "cell_type": "code",
   "id": "c0fec4d5-c5b0-4910-99bf-1058800259a7",
   "metadata": {
    "language": "python",
    "name": "cell4"
   },
   "outputs": [],
   "source": "pars['database']='imdb'\npars['schema']='public'",
   "execution_count": null
  },
  {
   "cell_type": "code",
   "id": "e8d7d972-096c-4dde-9b02-284835fc8abf",
   "metadata": {
    "language": "python",
    "name": "cell5"
   },
   "outputs": [],
   "source": "session=Session.builder.configs(pars).create()",
   "execution_count": null
  },
  {
   "cell_type": "code",
   "id": "14700b17-3a38-40c4-9805-3fda8455bfdf",
   "metadata": {
    "language": "python",
    "name": "cell6"
   },
   "outputs": [],
   "source": "session.query_tag='sentiment-serving'",
   "execution_count": null
  },
  {
   "cell_type": "code",
   "id": "d2385a24-3c08-4011-9e0e-522ef13ded22",
   "metadata": {
    "language": "python",
    "name": "cell7"
   },
   "outputs": [],
   "source": "test_dataset=session.table(\"train_dataset\")\ndf_flag=test_dataset.withColumn(\n    \"SENTIMENT_FLAG\",\n    F.when(test_dataset['SENTIMENT']=='positive',1).otherwise(value=2)\n)",
   "execution_count": null
  },
  {
   "cell_type": "code",
   "id": "7d3be058-962b-4971-9a99-34fb58e0cdac",
   "metadata": {
    "language": "python",
    "name": "cell8"
   },
   "outputs": [],
   "source": "df_flag.show(5)",
   "execution_count": null
  },
  {
   "cell_type": "code",
   "id": "a19ba1c6-26d8-419a-ab27-e8d5e043c972",
   "metadata": {
    "language": "python",
    "name": "cell9"
   },
   "outputs": [],
   "source": "session.clear_imports()\nsession.add_import(\"@models/model_review1.joblib\")\nsession.add_import(\"@models/vect_review1.joblib\")\n\nsession.clear_packages()\nsession.add_packages(\n        'snowflake-snowpark-python==1.39.0',\n        'snowflake-ml-python',\n        'scikit-learn==1.2.2',\n        'pandas==1.5.3',\n        'numpy==1.23.5',\n        'joblib==1.2.0',\n        'cachetools'\n        )\n",
   "execution_count": null
  },
  {
   "cell_type": "code",
   "id": "b3792d92-da82-4d4d-8aaa-b727e1fd22c2",
   "metadata": {
    "language": "python",
    "name": "cell10"
   },
   "outputs": [],
   "source": "@cachetools.cached(cache={})\ndef load_file(filename):\n    import os, sys, joblib\n    import_dir=sys._xoptions.get(\"snowflake_import_directory\")  # the files will be stored in the snowflake_import_directory location \n    if import_dir:\n        with open(os.path.join(import_dir,filename),\"rb\") as file:\n            return joblib.load(file)",
   "execution_count": null
  },
  {
   "cell_type": "code",
   "id": "21445b55-5cd0-45f7-8129-030258168684",
   "metadata": {
    "language": "python",
    "name": "cell11"
   },
   "outputs": [],
   "source": "udf_packages=['pandas==1.5.3','numpy==1.23.5','joblib==1.2.0','cachetools','scikit-learn==1.2.2',\n              'snowflake-snowpark-python==1.39.0','snowflake-ml-python']\nudf_imports=[\"@models/model_review1.joblib\",\"@models/vect_review1.joblib\"]\n@udf(name=\"predict_review\",is_permanent=True,stage_location=\"@files\",\n     replace=True,packages=udf_packages,imports=udf_imports)\ndef predict_review(args:list) -> float:\n    import pandas as pd\n    row=pd.DataFrame(data=[args],columns=list([\"REVIEW\",\"SENTIMENT_FLAG\"]))\n    bow_test=load_file(filename='vect_review1.joblib').transform(row['REVIEW'].values)\n    \n    prediction=load_file(filename='model_review1.joblib').predict(bow_test)\n    return float(prediction[0])",
   "execution_count": null
  },
  {
   "cell_type": "code",
   "id": "468a2016-16da-4a15-99f8-94d0bf18283c",
   "metadata": {
    "language": "python",
    "name": "cell12"
   },
   "outputs": [],
   "source": "query=df_flag.select(\n    df_flag['REVIEW'],\n    df_flag['SENTIMENT'],\n    df_flag['SENTIMENT_FLAG'],\n    call_udf(\n        \"predict_review\",\n        F.array_construct(F.col(\"REVIEW\"),F.col(\"SENTIMENT_FLAG\"))\n    ).alias('PREDICTED_REVIEW')\n)\n\nquery.show()",
   "execution_count": null
  },
  {
   "cell_type": "code",
   "id": "e65695d0-8802-4978-b025-c16ae1bd54a2",
   "metadata": {
    "language": "python",
    "name": "cell15"
   },
   "outputs": [],
   "source": "query.queries",
   "execution_count": null
  },
  {
   "cell_type": "code",
   "id": "f5ccd685-1f5c-4076-90ee-616e5c4dcd60",
   "metadata": {
    "language": "python",
    "name": "cell14"
   },
   "outputs": [],
   "source": "# Create and test alternative vectorized udf for batch inference\nudf_packages=['pandas==1.5.3','numpy==1.23.5','joblib==1.2.0','cachetools','scikit-learn==1.2.2',\n              'snowflake-snowpark-python==1.39.0','snowflake-ml-python']\nudf_imports=[\"@models/model_review1.joblib\",\"@models/vect_review1.joblib\"]\n@udf(name=\"predict_review_batch\",is_permanent=True,stage_location=\"@files\",\n     replace=True,packages=udf_packages,imports=udf_imports)\n\ndef predict_review_batch(df:PandasDataFrame[str]) -> PandasSeries[float]:\n    vec=load_file(filename='vect_review1.joblib')\n    bowTest=vec.transform(df[0].values)\n\n    model=load_file(filename=\"model_review1.joblib\")\n    return model.predict(bowTest)",
   "execution_count": null
  },
  {
   "cell_type": "code",
   "id": "9095a55e-6b0a-456e-8614-132cd0ac6310",
   "metadata": {
    "language": "python",
    "name": "cell13"
   },
   "outputs": [],
   "source": "query=df_flag.select(\n    df_flag['REVIEW'],\n    df_flag['SENTIMENT'],\n    df_flag['SENTIMENT_FLAG'],\n    call_udf(\n        \"predict_review_batch\",\n        col(\"REVIEW\"),\n    ).alias('PREDICTED_REVIEW')\n)\n\nquery.show()",
   "execution_count": null
  },
  {
   "cell_type": "code",
   "id": "e675ad83-be5d-4f89-8ab6-e3dadb95b742",
   "metadata": {
    "language": "python",
    "name": "cell16"
   },
   "outputs": [],
   "source": "query.queries",
   "execution_count": null
  }
 ]
}
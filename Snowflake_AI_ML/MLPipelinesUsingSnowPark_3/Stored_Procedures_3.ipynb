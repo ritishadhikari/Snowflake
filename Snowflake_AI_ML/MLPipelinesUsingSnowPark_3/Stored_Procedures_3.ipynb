{
 "metadata": {
  "kernelspec": {
   "display_name": "Streamlit Notebook",
   "name": "streamlit"
  },
  "lastEditStatus": {
   "notebookId": "cmuyincjy4z4svdccmky",
   "authorId": "2745791198920",
   "authorName": "RITISHADHIKARI",
   "authorEmail": "radhik0607@gmail.com",
   "sessionId": "6bb75cf6-49db-41cb-84f4-d9037f744d00",
   "lastEditTime": 1759584369491
  }
 },
 "nbformat_minor": 5,
 "nbformat": 4,
 "cells": [
  {
   "cell_type": "code",
   "id": "72601d32-0e68-445f-a5ba-e4ba5abf21d6",
   "metadata": {
    "language": "python",
    "name": "cell1"
   },
   "outputs": [],
   "source": "from snowflake.snowpark.functions import sproc, udf, udtf, call_udf, col, lit,pandas_udf\nfrom snowflake.snowpark.types import IntegerType, StructType, StructField, PandasSeriesType\nfrom snowflake.snowpark import Session\nfrom snowflake.snowpark.context import get_active_session\nfrom snowflake.ml.utils.connection_params import SnowflakeLoginOptions\nimport pandas as pd\nimport os",
   "execution_count": null
  },
  {
   "cell_type": "code",
   "id": "ebd767c5-da05-48a5-a16d-9444354ac382",
   "metadata": {
    "language": "python",
    "name": "cell4",
    "codeCollapsed": false
   },
   "outputs": [],
   "source": "os.environ['SNOWFLAKE_ACCOUNT'] = 'EBXSMJF-PL33393'\nos.environ['SNOWFLAKE_USER'] = 'ritishadhikari'\nos.environ['SNOWFLAKE_PASSWORD'] = 'Eklavya@05072024'\nos.environ['SNOWFLAKE_DATABASE'] = 'test'\nos.environ['SNOWFLAKE_SCHEMA'] = 'public'",
   "execution_count": null
  },
  {
   "cell_type": "code",
   "id": "4afa9cdd-f4c5-42d3-97b5-83ffea08b577",
   "metadata": {
    "language": "python",
    "name": "cell2"
   },
   "outputs": [],
   "source": "session=Session.builder.configs(SnowflakeLoginOptions()).create()\nsession.query_tag='func-gen'",
   "execution_count": null
  },
  {
   "cell_type": "markdown",
   "id": "3daba74d-de1f-46e9-886d-01d87543e946",
   "metadata": {
    "name": "cell5",
    "collapsed": false
   },
   "source": "Anonymous Stored Procedure (with Lambda)"
  },
  {
   "cell_type": "code",
   "id": "ce1f1924-a08b-426f-bc5b-cd1fdd3e3d11",
   "metadata": {
    "language": "python",
    "name": "cell3"
   },
   "outputs": [],
   "source": "# create a temporary procedure\nadd_one=sproc(\n    func=lambda session, x: session.sql(f\"SELECT {x}+1\").collect()[0][0],\n    input_types=[IntegerType()],\n    return_type=IntegerType(),\n    # packages=[\"snowflake-snowpark-python==1.13.0\"],\n    session=get_active_session()\n)\nret=add_one(1)\nprint(f\"add_one:{ret}\")",
   "execution_count": null
  },
  {
   "cell_type": "code",
   "id": "95cb6fc6-bc7c-4d90-ae5f-21f729ded7bb",
   "metadata": {
    "language": "python",
    "name": "cell6"
   },
   "outputs": [],
   "source": "add_two=sproc(\n    func=lambda session, x: session.sql(f\"SELECT {x}+2\").collect()[0][0],\n    name='add_two_proc',\n    replace=True,\n    input_types=[IntegerType()],\n    return_type=IntegerType(),\n    packages=['snowflake-snowpark-python'],\n    session=get_active_session()\n)\nret=session.call('add_two_proc',23)\nprint(f\"add_two:{ret}\")",
   "execution_count": null
  },
  {
   "cell_type": "code",
   "id": "7e9d7097-9fd6-4894-9a8f-5c504f7c75c9",
   "metadata": {
    "language": "sql",
    "name": "cell7"
   },
   "outputs": [],
   "source": "CREATE OR REPLACE FILE FORMAT TEST.PUBLIC.CSV_HEADER_PARSE\n    TYPE='CSV' PARSE_HEADER=TRUE FIELD_OPTIONALLY_ENCLOSED_BY = '\"';\n\n\n\n-- PUT file:data/titanic.csv @TEST.PUBLIC.INT_STAGE\n--     OVERWRITE=true AUTO_COMPRESS=false;",
   "execution_count": null
  },
  {
   "cell_type": "code",
   "id": "4d73ac9d-f9a1-48b0-87c7-a5f11487aa62",
   "metadata": {
    "language": "sql",
    "name": "cell8"
   },
   "outputs": [],
   "source": "CREATE OR REPLACE STAGE TEST.PUBLIC.INT_STAGE\n    FILE_FORMAT=TEST.PUBLIC.CSV_HEADER_PARSE;",
   "execution_count": null
  },
  {
   "cell_type": "code",
   "id": "71d4698e-8b71-47ae-8877-a5e1270ad57a",
   "metadata": {
    "language": "python",
    "name": "cell10"
   },
   "outputs": [],
   "source": "session.file.put(\n    'titanic.csv',\n    '@TEST.PUBLIC.INT_STAGE',\n    auto_compress=False,\n    overwrite=True\n)",
   "execution_count": null
  },
  {
   "cell_type": "code",
   "id": "c2c9751d-d842-444a-be0c-19333baa0f8d",
   "metadata": {
    "language": "python",
    "name": "cell11"
   },
   "outputs": [],
   "source": "# this will create a permanent stored procedure\n@sproc(\n    name='add_three',\n    replace=True,\n    is_permanent=True,\n    stage_location=\"@int_stage\",\n    packages=['snowflake-snowpark-python'],\n    session=get_active_session()\n)\ndef  add_three(session: Session, x:int) -> int:\n    return session.sql(f\"SELECT {x}+3\").collect()[0][0]\n\nret=session.sql('CALL add_three(1)').collect()[0][0]\nprint(f\"add_three: {ret}\")",
   "execution_count": null
  },
  {
   "cell_type": "code",
   "id": "5188cf45-55bf-4e38-a722-7281df243022",
   "metadata": {
    "language": "python",
    "name": "cell9"
   },
   "outputs": [],
   "source": "# this is a temporary function\nadd_five=udf(func=lambda x: x+5,\n             input_types=[IntegerType()],\n             return_type=IntegerType())\n\ndf=session.create_dataframe([[1,],]).to_df(\"a\")\nret=df.select(add_five(col('a'))).collect()[0][0]\nprint(f\"add_five:{ret}\")",
   "execution_count": null
  },
  {
   "cell_type": "code",
   "id": "7a244cc4-7ca6-409a-9118-03fde85ac615",
   "metadata": {
    "language": "python",
    "name": "cell12"
   },
   "outputs": [],
   "source": "# this is a permanent function\nadd_six=udf(func=lambda x: x+5,\n             name=\"add_six\",\n             replace=True,\n             session=get_active_session(),\n             input_types=[IntegerType()],\n             return_type=IntegerType())\n\ndf=session.create_dataframe([[7,],]).to_df(\"a\")\nret=df.select(add_six(col('a'))).collect()[0][0]\nprint(f\"add_six:{ret}\")",
   "execution_count": null
  },
  {
   "cell_type": "markdown",
   "id": "dce3a2db-9998-4565-9338-88ada670e920",
   "metadata": {
    "name": "cell14",
    "collapsed": false
   },
   "source": "Registered UDF"
  },
  {
   "cell_type": "code",
   "id": "ed8094f1-295d-4c0f-9a36-575a89ed8844",
   "metadata": {
    "language": "python",
    "name": "cell15"
   },
   "outputs": [],
   "source": "# register an udf\n@udf(\nname=\"add_nine\",\nreplace=True,\nis_permanent=True,\nstage_location=\"@int_stage\"\n)\ndef add_nine(x:int)->int:\n    return x+9\n\ndf=session.create_dataframe([[1]], schema=[\"a\"])\nret=df.select(call_udf(\"add_nine\",col(\"a\"))).collect()[0][0]\nprint(f\"add_nine:{ret}\")",
   "execution_count": null
  },
  {
   "cell_type": "code",
   "id": "9bf2b81b-3f02-48a1-b681-422cc49e4d6c",
   "metadata": {
    "language": "python",
    "name": "cell16"
   },
   "outputs": [],
   "source": "# Registered UDTF\n\nclass GETTwo:\n    def process(self, n):\n        yield(1,)\n        yield(n,)\n\nget_two=udtf(handler=GETTwo, \n             output_schema=StructType([\n                 StructField(\n                    column_identifier=\"number\",\n                    datatype=IntegerType()\n                    )\n                ]),\n             input_types=[IntegerType()]\n            )\nret=session.table_function(get_two(lit(literal=3))).collect()\nprint(f\"get_two: {ret}\")",
   "execution_count": null
  },
  {
   "cell_type": "markdown",
   "id": "e9623ce7-9aba-4e06-a515-ef8348b02796",
   "metadata": {
    "name": "cell17",
    "collapsed": false
   },
   "source": "Pandas UDF"
  },
  {
   "cell_type": "code",
   "id": "5ebec428-3215-43b0-aa3a-0bad2d4b1d12",
   "metadata": {
    "language": "python",
    "name": "cell13"
   },
   "outputs": [],
   "source": "@pandas_udf(\n    name='add_eight',\n    replace=True,\n    input_types=[\n            PandasSeriesType(element_type=IntegerType()),\n            PandasSeriesType(element_type=IntegerType())\n    ],\n    return_type=PandasSeriesType(element_type=IntegerType()),\n    session=get_active_session()\n)\ndef add_eight(col1:pd.Series, col2: pd.Series) ->pd.Series:\n    return col1+col2+8\n\ndf=session.create_dataframe([\n    [1,2],\n    [3,4],\n    ],\n    schema=[\"a\",\"b\"])\nret=df.select(call_udf(\"add_eight\", col('a'), col('b'))).collect()\n\nprint(f\"add_eight: {ret[0][0]}, {ret[1][0]}\")",
   "execution_count": null
  }
 ]
}
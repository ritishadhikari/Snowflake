{
 "metadata": {
  "kernelspec": {
   "display_name": "Streamlit Notebook",
   "name": "streamlit"
  },
  "lastEditStatus": {
   "notebookId": "aygo7bqoh7bftr63hggj",
   "authorId": "2745791198920",
   "authorName": "RITISHADHIKARI",
   "authorEmail": "radhik0607@gmail.com",
   "sessionId": "d4353377-8b8d-41f3-a87a-723a551e11e4",
   "lastEditTime": 1759845401281
  }
 },
 "nbformat_minor": 5,
 "nbformat": 4,
 "cells": [
  {
   "cell_type": "code",
   "id": "bf6c198b-34d4-4054-9051-1eaa820c1086",
   "metadata": {
    "language": "python",
    "name": "cell1"
   },
   "outputs": [],
   "source": "from snowflake.snowpark import Session\nfrom snowflake.ml.utils.connection_params import SnowflakeLoginOptions\nimport os",
   "execution_count": null
  },
  {
   "cell_type": "code",
   "id": "8c19fede-8b06-43b3-a94b-fe084b561930",
   "metadata": {
    "language": "python",
    "name": "cell4"
   },
   "outputs": [],
   "source": "os.environ['SNOWFLAKE_ACCOUNT'] = 'EBXSMJF-PL33393'\nos.environ['SNOWFLAKE_USER'] = 'ritishadhikari'\nos.environ['SNOWFLAKE_PASSWORD'] = 'Eklavya@05072024'\nos.environ['SNOWFLAKE_DATABASE'] = 'test'\nos.environ['SNOWFLAKE_SCHEMA'] = 'public'",
   "execution_count": null
  },
  {
   "cell_type": "code",
   "id": "e9adba3e-0c12-4999-8e65-eb9d5d9d90a1",
   "metadata": {
    "language": "python",
    "name": "cell3"
   },
   "outputs": [],
   "source": "session=Session.builder.configs(SnowflakeLoginOptions(\"my_example_connection\")).create()\ndf=session.table(\"housing\")\ndf.sample(frac=0.10).show()",
   "execution_count": null
  },
  {
   "cell_type": "code",
   "id": "96cc7fe3-5cb0-465b-aba6-14555096e319",
   "metadata": {
    "language": "python",
    "name": "cell5"
   },
   "outputs": [],
   "source": "pdf=df.to_pandas().sample(frac=0.10)\npdf",
   "execution_count": null
  },
  {
   "cell_type": "code",
   "id": "6b26057f-be5f-45aa-8349-c5c1c8633089",
   "metadata": {
    "language": "python",
    "name": "cell6"
   },
   "outputs": [],
   "source": "train_data,test_data=df.random_split(weights=[0.9,0.1], seed=0)",
   "execution_count": null
  },
  {
   "cell_type": "code",
   "id": "bd1969e9-2ccc-4665-9d14-1846fbc44dc5",
   "metadata": {
    "language": "python",
    "name": "cell7"
   },
   "outputs": [],
   "source": "train_data.show()",
   "execution_count": null
  },
  {
   "cell_type": "code",
   "id": "d20963ed-8f42-4611-8ef1-7e2cbcf0ff5c",
   "metadata": {
    "language": "python",
    "name": "cell8"
   },
   "outputs": [],
   "source": "test_data.show()",
   "execution_count": null
  }
 ]
}
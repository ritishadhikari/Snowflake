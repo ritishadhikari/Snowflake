{
 "metadata": {
  "kernelspec": {
   "display_name": "Streamlit Notebook",
   "name": "streamlit"
  },
  "lastEditStatus": {
   "notebookId": "77iimv7hlgfw5lom5o36",
   "authorId": "2745791198920",
   "authorName": "RITISHADHIKARI",
   "authorEmail": "radhik0607@gmail.com",
   "sessionId": "0fb840b6-9971-482c-8e03-6abfd82b5aa9",
   "lastEditTime": 1760375482183
  }
 },
 "nbformat_minor": 5,
 "nbformat": 4,
 "cells": [
  {
   "cell_type": "code",
   "id": "de93551e-a401-4720-bde0-5dfb6bcb777c",
   "metadata": {
    "language": "python",
    "name": "cell1"
   },
   "outputs": [],
   "source": "from sklearn.impute import SimpleImputer\nfrom sklearn.preprocessing import StandardScaler, OneHotEncoder\nfrom sklearn.compose import ColumnTransformer\nfrom sklearn.pipeline import Pipeline\nfrom sklearn.ensemble import RandomForestRegressor\nfrom snowflake.snowpark import Session\nfrom snowflake.snowpark import functions as F\nfrom snowflake.snowpark import types as T\nfrom snowflake.ml.utils.connection_params import SnowflakeLoginOptions\nfrom dotenv import load_dotenv\nimport cachetools",
   "execution_count": null
  },
  {
   "cell_type": "code",
   "id": "34886607-1159-4327-91b7-273e4b7ad586",
   "metadata": {
    "language": "python",
    "name": "cell2"
   },
   "outputs": [],
   "source": "load_dotenv()",
   "execution_count": null
  },
  {
   "cell_type": "code",
   "id": "8b1a2ad5-6a8b-47ce-bcf4-fce84547d015",
   "metadata": {
    "language": "python",
    "name": "cell3"
   },
   "outputs": [],
   "source": "session=Session.builder.configs(SnowflakeLoginOptions(\"test_conn\")).create()\nsession",
   "execution_count": null
  },
  {
   "cell_type": "code",
   "id": "3e3e3a3f-833a-4214-b8a3-93bff6291d0c",
   "metadata": {
    "language": "python",
    "name": "cell5"
   },
   "outputs": [],
   "source": "session.clear_imports()\nsession.clear_packages()\n\n@cachetools.cached(cache={})\ndef load_file(file_name):\n    import sys, os, joblib\n    import_dir=sys._xoptions.get(\"snowflake_import_directory\")\n    if import_dir:\n        with open(os.path.join(import_dir,file_name),'rb') as f:\n            return joblib.load(f)",
   "execution_count": null
  },
  {
   "cell_type": "code",
   "id": "5a612084-1f81-4aa5-b875-4f2ac89f3c52",
   "metadata": {
    "language": "python",
    "name": "cell8"
   },
   "outputs": [],
   "source": "artifact_imports=['@int_stage/models/2025-10-13-091807/housing_fores_reg.joblib']\nmodules_imports=['snowflake-snowpark-python','scikit-learn','pandas','numpy','joblib','cachetools']\n\n@F.udf(name=\"predict_house_value\",is_permanent=True,replace=True,\n        stage_location='int_stage/udf/',imports=artifact_imports,\n        packages=modules_imports)\ndef predict_house_value(df:T.PandasDataFrame[\n    float,float,float,float,float,float,float,float,str]) -> T.PandasSeries[float]:\n    df.columns=['LONGITUDE','LATITUDE','HOUSING_MEDIAN_AGE',\n                              'TOTAL_ROOMS','TOTAL_BEDROOMS','POPULATION',\n                              'HOUSEHOLDS','MEDIAN_INCOME','OCEAN_PROXIMITY']\n    m=load_file('housing_fores_reg.joblib')\n    return m.predict(df)\n    ",
   "execution_count": null
  },
  {
   "cell_type": "code",
   "id": "ec8da33b-c2ba-4666-af8f-922156d1c2a2",
   "metadata": {
    "language": "python",
    "name": "cell7"
   },
   "outputs": [],
   "source": "df=session.table(\"HOUSING_TEST\")\ninputs=df.drop(\"MEDIAN_HOUSE_VALUE\")\n\ndf=df.select(*inputs,\n            F.call_function(\"predict_house_value\",*inputs).alias('PREDICTION'),  # first param is the housing name, second param is the name of the features\n            F.col('MEDIAN_HOUSE_VALUE').alias(\"ACTUAL_LABEL\"))\n\ndf.show()",
   "execution_count": null
  }
 ]
}
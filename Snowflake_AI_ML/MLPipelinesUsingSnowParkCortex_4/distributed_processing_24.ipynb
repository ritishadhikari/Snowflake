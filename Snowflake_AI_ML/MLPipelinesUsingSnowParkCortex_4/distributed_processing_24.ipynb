{
 "metadata": {
  "kernelspec": {
   "display_name": "Streamlit Notebook",
   "name": "streamlit"
  },
  "lastEditStatus": {
   "notebookId": "4q6yadqzd27edvlzbafg",
   "authorId": "2745791198920",
   "authorName": "RITISHADHIKARI",
   "authorEmail": "radhik0607@gmail.com",
   "sessionId": "57fdf84a-371f-45f7-a5a2-a200741d788c",
   "lastEditTime": 1760779599698
  }
 },
 "nbformat_minor": 5,
 "nbformat": 4,
 "cells": [
  {
   "cell_type": "code",
   "id": "cd56bff5-10ca-4691-84a5-3aa63d49a685",
   "metadata": {
    "language": "python",
    "name": "cell1"
   },
   "outputs": [],
   "source": "import random , string,time,math\nimport pandas as pd\n# from sklearn.datasets import make_regression\nfrom snowflake.snowpark import Session\nfrom random import randint\nfrom sklearn.preprocessing import OrdinalEncoder, MinMaxScaler\n\nimport os\nfrom snowflake.ml.modeling.preprocessing import MinMaxScaler as MMS, OrdinalEncoder as OE\nfrom snowflake.ml.modeling.pipeline import Pipeline\nimport io\nimport joblib\nfrom snowflake.ml.modeling.metrics.correlation import correlation",
   "execution_count": null
  },
  {
   "cell_type": "code",
   "id": "04f37485-fe96-4477-bfc8-b10295342db7",
   "metadata": {
    "language": "python",
    "name": "cell2",
    "codeCollapsed": false
   },
   "outputs": [],
   "source": "session=Session.builder.getOrCreate()",
   "execution_count": null
  },
  {
   "cell_type": "code",
   "id": "8e099493-524d-40c1-b29c-e6d6a4ebf3dd",
   "metadata": {
    "language": "python",
    "name": "cell3"
   },
   "outputs": [],
   "source": "X1,X2=[randint(2,100) for _ in range(10000)],[randint(2,100) for _ in range (10000)]\n    # X,_=make_regression(n_samples=1000, n_features=2,noise=0.1,random_state=0)\nX=pd.DataFrame(data={'N1':X1,'N2':X2})\n# return X\n\ncat_features={}\nfor c in ['C1','C2']:\n    cat_features[c]=[\"\".join(random.choices(string.ascii_uppercase,k=2)) for _ in range(X.shape[0])]\nX=X.assign(**cat_features)\n\ndf=session.create_dataframe(X)\ndf.write.mode(\"overwrite\").save_as_table(\"test.public.regression_dataset\")\n\ndf.show()",
   "execution_count": null
  },
  {
   "cell_type": "code",
   "id": "b2e1569a-703f-44a7-8d61-d5da39053eff",
   "metadata": {
    "language": "python",
    "name": "cell4"
   },
   "outputs": [],
   "source": "X=session.table('test.public.regression_dataset').to_pandas()\n\nstart_time= time.time()\nX[['C1O','C2O']]=OrdinalEncoder().fit_transform(X[['C1','C2']])\n\nX[['N1FO','N2FO','C1FO','C2FO']]=MinMaxScaler().fit_transform(X[['N1','N2','C1O','C2O']])\n\ntotal_time=math.trunc(time.time()-start_time)\n\nprint(f\"{total_time} seconds\")\n\nX.head()",
   "execution_count": null
  },
  {
   "cell_type": "markdown",
   "id": "ab5a3b22-d54b-4b9c-b81b-cc9cda9732ec",
   "metadata": {
    "name": "cell6",
    "collapsed": false
   },
   "source": "## Using Snowflake ML"
  },
  {
   "cell_type": "code",
   "id": "93ae23b5-f000-4469-835e-be769c3740b1",
   "metadata": {
    "language": "python",
    "name": "cell5"
   },
   "outputs": [],
   "source": "df=session.table(\"test.public.regression_dataset\")",
   "execution_count": null
  },
  {
   "cell_type": "code",
   "id": "3a055945-ae0e-4d83-a6e4-acef85392a50",
   "metadata": {
    "language": "python",
    "name": "cell7"
   },
   "outputs": [],
   "source": "df.show()",
   "execution_count": null
  },
  {
   "cell_type": "code",
   "id": "9e007fc2-ad6c-4a3d-84be-2c0aa767c221",
   "metadata": {
    "language": "python",
    "name": "cell8"
   },
   "outputs": [],
   "source": "pipe=Pipeline(steps=[\n    (\n        \"encoder\", OE(\n            input_cols=['C1','C2'],\n            output_cols=['C1O','C2O']\n        )\n    ),\n    (\n        \"scaler\",MMS(\n            input_cols=['N1','N2','C1O','C2O'],\n            output_cols=['N1FO','N2FO','C1FO','C2FO']\n        )\n    )\n])",
   "execution_count": null
  },
  {
   "cell_type": "code",
   "id": "523c175c-e9ff-46f6-ae67-fb1ede26e68a",
   "metadata": {
    "language": "python",
    "name": "cell9"
   },
   "outputs": [],
   "source": "pipe.fit(df)",
   "execution_count": null
  },
  {
   "cell_type": "code",
   "id": "d27b63ab-a92e-42d0-9629-435c5b766548",
   "metadata": {
    "language": "python",
    "name": "cell10"
   },
   "outputs": [],
   "source": "df=pipe.transform(df)",
   "execution_count": null
  },
  {
   "cell_type": "code",
   "id": "25c5e7c8-b565-4a3a-bdae-09eeccf2eb9a",
   "metadata": {
    "language": "python",
    "name": "cell11"
   },
   "outputs": [],
   "source": "df.show()",
   "execution_count": null
  },
  {
   "cell_type": "markdown",
   "id": "81a50f30-1e93-4421-8771-0773d8add355",
   "metadata": {
    "name": "cell14",
    "collapsed": false
   },
   "source": "## Saving the Model"
  },
  {
   "cell_type": "code",
   "id": "17169262-6d3f-403d-9aa4-8fbeb6747158",
   "metadata": {
    "language": "python",
    "name": "cell12"
   },
   "outputs": [],
   "source": "model_name=\"random_model.joblib\"\nstage_location=\"@int_stage/random_model\"\n\nmodel_path=os.path.join(stage_location,model_name)\nmodel_path",
   "execution_count": null
  },
  {
   "cell_type": "code",
   "id": "89125d50-60e7-4006-95d1-3c7f42fb90b8",
   "metadata": {
    "language": "python",
    "name": "cell13",
    "codeCollapsed": false
   },
   "outputs": [],
   "source": "input_stream=io.BytesIO()\ninput_stream.name=model_name\njoblib.dump(value=pipe,filename=input_stream)\nsession.file.put_stream(\n    input_stream=input_stream, \n    stage_location=model_path,\n    overwrite=True\n)",
   "execution_count": null
  },
  {
   "cell_type": "code",
   "id": "d59abea9-f40e-496c-a557-c81f722fb2e7",
   "metadata": {
    "language": "python",
    "name": "cell15"
   },
   "outputs": [],
   "source": "df_corr=correlation(df=df)",
   "execution_count": null
  },
  {
   "cell_type": "code",
   "id": "addbabe2-9d06-4f22-984e-66f022f957f4",
   "metadata": {
    "language": "python",
    "name": "cell16"
   },
   "outputs": [],
   "source": "df_corr",
   "execution_count": null
  }
 ]
}
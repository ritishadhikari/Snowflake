{
 "metadata": {
  "kernelspec": {
   "display_name": "Streamlit Notebook",
   "name": "streamlit"
  },
  "lastEditStatus": {
   "notebookId": "vcjzifw5yfb7kzoj3ufy",
   "authorId": "2745791198920",
   "authorName": "RITISHADHIKARI",
   "authorEmail": "radhik0607@gmail.com",
   "sessionId": "8edb354e-c337-413d-a0f6-f9c35bb0de40",
   "lastEditTime": 1760554289193
  }
 },
 "nbformat_minor": 5,
 "nbformat": 4,
 "cells": [
  {
   "cell_type": "code",
   "id": "94c24568-107c-4507-a912-c66abdfa706f",
   "metadata": {
    "language": "python",
    "name": "cell1"
   },
   "outputs": [],
   "source": "from snowflake.snowpark import Session\nfrom snowflake.ml.fileset import sfcfs\nimport gzip\nimport pyarrow.parquet as pq",
   "execution_count": null
  },
  {
   "cell_type": "code",
   "id": "ff885fca-227b-4790-ab69-8bf36978b93d",
   "metadata": {
    "language": "python",
    "name": "cell2",
    "codeCollapsed": false
   },
   "outputs": [],
   "source": "session=Session.builder.getOrCreate()",
   "execution_count": null
  },
  {
   "cell_type": "code",
   "id": "7d2592eb-9dd4-490c-9d85-5b16998f6583",
   "metadata": {
    "language": "python",
    "name": "cell3"
   },
   "outputs": [],
   "source": "session",
   "execution_count": null
  },
  {
   "cell_type": "code",
   "id": "c1199594-431c-4806-9716-885aae332c1a",
   "metadata": {
    "language": "python",
    "name": "cell4"
   },
   "outputs": [],
   "source": "STAGE=\"@test.public.enc_stage\"",
   "execution_count": null
  },
  {
   "cell_type": "code",
   "id": "3ca1542e-425a-4458-bcd4-5a1cd316d30d",
   "metadata": {
    "language": "python",
    "name": "cell5"
   },
   "outputs": [],
   "source": "fs=sfcfs.SFFileSystem(snowpark_session=session)",
   "execution_count": null
  },
  {
   "cell_type": "code",
   "id": "69e04205-d49e-40e0-8a6b-23ca43e2cca8",
   "metadata": {
    "language": "python",
    "name": "cell6"
   },
   "outputs": [],
   "source": "fs.ls(STAGE)",
   "execution_count": null
  },
  {
   "cell_type": "code",
   "id": "82746877-da3f-4367-b7fd-5b79a2fe07eb",
   "metadata": {
    "language": "python",
    "name": "cell7"
   },
   "outputs": [],
   "source": "# reading a csv\nwith fs.open(f\"{STAGE}/titanic.csv\") as f:\n    print(f.read(1000))",
   "execution_count": null
  },
  {
   "cell_type": "code",
   "id": "83ec0cc7-6a74-45bd-8511-f2e076858618",
   "metadata": {
    "language": "python",
    "name": "cell8"
   },
   "outputs": [],
   "source": "# reading a gzip\nwith fs.open(f\"{STAGE}/imdb_train.csv.gz\", mode='rb') as f:\n    g=gzip.GzipFile(fileobj=f)\n    for i in range(10):\n        print(g.readline())",
   "execution_count": null
  },
  {
   "cell_type": "code",
   "id": "eddf3a74-5b31-455b-8f48-362c7ba4294b",
   "metadata": {
    "language": "python",
    "name": "cell9",
    "codeCollapsed": false
   },
   "outputs": [],
   "source": "# Opening a Parquet File\ndf=pq.read_table(source=f\"{STAGE}/weather-ts.parquet\",filesystem=fs).to_pandas()\ndf.head()\n    ",
   "execution_count": null
  }
 ]
}
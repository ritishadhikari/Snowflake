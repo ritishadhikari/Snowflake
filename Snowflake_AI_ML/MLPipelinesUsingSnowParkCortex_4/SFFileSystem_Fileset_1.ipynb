{
 "metadata": {
  "kernelspec": {
   "display_name": "Streamlit Notebook",
   "name": "streamlit"
  },
  "lastEditStatus": {
   "notebookId": "vcjzifw5yfb7kzoj3ufy",
   "authorId": "2745791198920",
   "authorName": "RITISHADHIKARI",
   "authorEmail": "radhik0607@gmail.com",
   "sessionId": "7f22ce28-9a3a-412b-a197-366d43eba13e",
   "lastEditTime": 1760677991757
  }
 },
 "nbformat_minor": 5,
 "nbformat": 4,
 "cells": [
  {
   "cell_type": "code",
   "id": "94c24568-107c-4507-a912-c66abdfa706f",
   "metadata": {
    "language": "python",
    "name": "cell1"
   },
   "outputs": [],
   "source": "from snowflake.snowpark import Session\nfrom snowflake.ml.fileset import sfcfs,fileset\nimport gzip\nimport pyarrow.parquet as pq\nfrom torch.utils.data import DataLoader",
   "execution_count": null
  },
  {
   "cell_type": "code",
   "id": "ff885fca-227b-4790-ab69-8bf36978b93d",
   "metadata": {
    "language": "python",
    "name": "cell2",
    "codeCollapsed": false
   },
   "outputs": [],
   "source": "session=Session.builder.getOrCreate()",
   "execution_count": null
  },
  {
   "cell_type": "code",
   "id": "7d2592eb-9dd4-490c-9d85-5b16998f6583",
   "metadata": {
    "language": "python",
    "name": "cell3"
   },
   "outputs": [],
   "source": "session",
   "execution_count": null
  },
  {
   "cell_type": "code",
   "id": "6f85292c-5b96-439d-9907-876806201b80",
   "metadata": {
    "language": "python",
    "name": "cell11"
   },
   "outputs": [],
   "source": "STAGE=\"@test.public.enc_stage\"",
   "execution_count": null
  },
  {
   "cell_type": "markdown",
   "id": "cd5059cb-81ab-4edf-831a-2c55dd8e439a",
   "metadata": {
    "name": "cell10",
    "collapsed": false
   },
   "source": "## FileSystem"
  },
  {
   "cell_type": "code",
   "id": "3ca1542e-425a-4458-bcd4-5a1cd316d30d",
   "metadata": {
    "language": "python",
    "name": "cell5"
   },
   "outputs": [],
   "source": "fs=sfcfs.SFFileSystem(snowpark_session=session)",
   "execution_count": null
  },
  {
   "cell_type": "code",
   "id": "69e04205-d49e-40e0-8a6b-23ca43e2cca8",
   "metadata": {
    "language": "python",
    "name": "cell6"
   },
   "outputs": [],
   "source": "fs.ls(STAGE)",
   "execution_count": null
  },
  {
   "cell_type": "code",
   "id": "82746877-da3f-4367-b7fd-5b79a2fe07eb",
   "metadata": {
    "language": "python",
    "name": "cell7"
   },
   "outputs": [],
   "source": "# reading a csv\nwith fs.open(f\"{STAGE}/titanic.csv\") as f:\n    print(f.read(1000))",
   "execution_count": null
  },
  {
   "cell_type": "code",
   "id": "83ec0cc7-6a74-45bd-8511-f2e076858618",
   "metadata": {
    "language": "python",
    "name": "cell8"
   },
   "outputs": [],
   "source": "# reading a gzip\nwith fs.open(f\"{STAGE}/imdb_train.csv.gz\", mode='rb') as f:\n    g=gzip.GzipFile(fileobj=f)\n    for i in range(10):\n        print(g.readline())",
   "execution_count": null
  },
  {
   "cell_type": "code",
   "id": "eddf3a74-5b31-455b-8f48-362c7ba4294b",
   "metadata": {
    "language": "python",
    "name": "cell9",
    "codeCollapsed": false
   },
   "outputs": [],
   "source": "# Opening a Parquet File\ndf=pq.read_table(source=f\"{STAGE}/weather-ts.parquet\",filesystem=fs).to_pandas()\ndf.head()\n    ",
   "execution_count": null
  },
  {
   "cell_type": "markdown",
   "id": "ad76cfd2-39df-4abe-9510-986d55edbb84",
   "metadata": {
    "name": "cell4",
    "collapsed": false
   },
   "source": "## Fileset"
  },
  {
   "cell_type": "code",
   "id": "07f4c026-5a08-40d7-9e05-d29b06299a5b",
   "metadata": {
    "language": "python",
    "name": "cell13"
   },
   "outputs": [],
   "source": "## Creating Fileset from a Dataframe\nsession.sql(f\"REMOVE {STAGE}/housing1\").collect()",
   "execution_count": null
  },
  {
   "cell_type": "code",
   "id": "9516be80-2c9e-4c88-a0d5-1744ea19da91",
   "metadata": {
    "language": "python",
    "name": "cell12",
    "codeCollapsed": false
   },
   "outputs": [],
   "source": "fs1=fileset.FileSet.make(\n    target_stage_loc=STAGE,\n    name='housing1',\n    snowpark_dataframe=session.table(\"test.public.housing\"),\n    shuffle=True\n)",
   "execution_count": null
  },
  {
   "cell_type": "code",
   "id": "6c8931fe-76b6-4d68-bc31-7b9f6e3109f4",
   "metadata": {
    "language": "python",
    "name": "cell14"
   },
   "outputs": [],
   "source": "fs1.files()",
   "execution_count": null
  },
  {
   "cell_type": "code",
   "id": "33cb3c19-493c-4017-a3b0-eda0550d12e9",
   "metadata": {
    "language": "python",
    "name": "cell15"
   },
   "outputs": [],
   "source": "# Create a fileset from a query reult\nsession.sql(f\"REMOVE {STAGE}/housing2\").collect()",
   "execution_count": null
  },
  {
   "cell_type": "code",
   "id": "77f5f530-9d31-4808-bffa-1e9e46edc187",
   "metadata": {
    "language": "python",
    "name": "cell16"
   },
   "outputs": [],
   "source": "fs2=fileset.FileSet.make(\n    target_stage_loc=STAGE,\n    name=\"housing2\",\n    sf_connection=session.connection,\n    query=\"SELECT * FROM test.public.housing\",\n    shuffle=True\n)",
   "execution_count": null
  },
  {
   "cell_type": "code",
   "id": "12981131-4f42-4313-98ed-a010e5612a7c",
   "metadata": {
    "language": "python",
    "name": "cell17"
   },
   "outputs": [],
   "source": "fs2.files()",
   "execution_count": null
  },
  {
   "cell_type": "code",
   "id": "a4b03e87-9c21-46a1-9759-a38998a70710",
   "metadata": {
    "language": "python",
    "name": "cell18"
   },
   "outputs": [],
   "source": "# feed first fileset to tensorflow\nds1=fs1.to_tf_dataset(batch_size=4,shuffle=True,drop_last_batch=True)",
   "execution_count": null
  },
  {
   "cell_type": "code",
   "id": "3bdbd2c0-9f20-4d46-9c87-188ae6998d67",
   "metadata": {
    "language": "python",
    "name": "cell20"
   },
   "outputs": [],
   "source": "for batch in ds1:\n    print(batch)\n    break",
   "execution_count": null
  },
  {
   "cell_type": "code",
   "id": "d786bf7d-2e2d-4729-a4a2-3d6899412410",
   "metadata": {
    "language": "python",
    "name": "cell19"
   },
   "outputs": [],
   "source": "# Feed second file to Pytorch\ns2=fs2.to_torch_datapipe(batch_size=4,shuffle=True, drop_last_batch=True)\nloader=DataLoader(ds2,batch_size=None,num_workers=0)",
   "execution_count": null
  },
  {
   "cell_type": "code",
   "id": "29b44e59-567f-49ea-a3d8-092aef6f5b7b",
   "metadata": {
    "language": "python",
    "name": "cell22"
   },
   "outputs": [],
   "source": "for batch in loader:\n    print(batch)\n    break",
   "execution_count": null
  },
  {
   "cell_type": "code",
   "id": "9626e849-9594-44dd-97d7-865f8bbce7bc",
   "metadata": {
    "language": "python",
    "name": "cell21"
   },
   "outputs": [],
   "source": "",
   "execution_count": null
  }
 ]
}